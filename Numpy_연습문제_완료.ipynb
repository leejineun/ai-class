{
  "nbformat": 4,
  "nbformat_minor": 0,
  "metadata": {
    "colab": {
      "name": "Numpy 연습문제.ipynb",
      "provenance": [],
      "collapsed_sections": [],
      "authorship_tag": "ABX9TyMEtyihvz0ydZwSnK5ddQCw",
      "include_colab_link": true
    },
    "kernelspec": {
      "name": "python3",
      "display_name": "Python 3"
    },
    "language_info": {
      "name": "python"
    }
  },
  "cells": [
    {
      "cell_type": "markdown",
      "metadata": {
        "id": "view-in-github",
        "colab_type": "text"
      },
      "source": [
        "<a href=\"https://colab.research.google.com/github/leejineun/ai-class/blob/main/Numpy_%EC%97%B0%EC%8A%B5%EB%AC%B8%EC%A0%9C_%EC%99%84%EB%A3%8C.ipynb\" target=\"_parent\"><img src=\"https://colab.research.google.com/assets/colab-badge.svg\" alt=\"Open In Colab\"/></a>"
      ]
    },
    {
      "cell_type": "code",
      "metadata": {
        "id": "xmFh5gvpSTSI"
      },
      "source": [
        "import numpy as np"
      ],
      "execution_count": null,
      "outputs": []
    },
    {
      "cell_type": "markdown",
      "metadata": {
        "id": "pJ4babpDSJWv"
      },
      "source": [
        "1. 총 원소의 개수가 27개고, 모든 원소는 4인 3차원 배열을 생성하세요."
      ]
    },
    {
      "cell_type": "code",
      "metadata": {
        "id": "NQS93Ry7SYD2",
        "colab": {
          "base_uri": "https://localhost:8080/"
        },
        "outputId": "433d02be-2afa-4890-92be-1869a792b295"
      },
      "source": [
        "a = np.ones((3, 3, 3)) * 4\n",
        "print(a, '\\n', a.shape, a.size)"
      ],
      "execution_count": null,
      "outputs": [
        {
          "output_type": "stream",
          "text": [
            "[[[4. 4. 4.]\n",
            "  [4. 4. 4.]\n",
            "  [4. 4. 4.]]\n",
            "\n",
            " [[4. 4. 4.]\n",
            "  [4. 4. 4.]\n",
            "  [4. 4. 4.]]\n",
            "\n",
            " [[4. 4. 4.]\n",
            "  [4. 4. 4.]\n",
            "  [4. 4. 4.]]] \n",
            " (3, 3, 3) 27\n"
          ],
          "name": "stdout"
        }
      ]
    },
    {
      "cell_type": "code",
      "metadata": {
        "colab": {
          "base_uri": "https://localhost:8080/"
        },
        "id": "K2BXksP5HbBY",
        "outputId": "71c31e9a-b7bc-40b4-9370-0ee24f0e3eea"
      },
      "source": [
        "np.full((3,3,3), 4)"
      ],
      "execution_count": null,
      "outputs": [
        {
          "output_type": "execute_result",
          "data": {
            "text/plain": [
              "array([[[4, 4, 4],\n",
              "        [4, 4, 4],\n",
              "        [4, 4, 4]],\n",
              "\n",
              "       [[4, 4, 4],\n",
              "        [4, 4, 4],\n",
              "        [4, 4, 4]],\n",
              "\n",
              "       [[4, 4, 4],\n",
              "        [4, 4, 4],\n",
              "        [4, 4, 4]]])"
            ]
          },
          "metadata": {
            "tags": []
          },
          "execution_count": 3
        }
      ]
    },
    {
      "cell_type": "markdown",
      "metadata": {
        "id": "sas10r2ySZB3"
      },
      "source": [
        "2. 배열 내의 원소간의 간격이 3이고, 배열의 길이가 20인 배열을 생성하시오"
      ]
    },
    {
      "cell_type": "code",
      "metadata": {
        "id": "f_M10r52Se8-",
        "colab": {
          "base_uri": "https://localhost:8080/"
        },
        "outputId": "a32818a0-7954-4963-8c33-5079a5272bff"
      },
      "source": [
        "a = np.arange(0, 60, 3)\n",
        "print(len(a), '\\n', a)"
      ],
      "execution_count": null,
      "outputs": [
        {
          "output_type": "stream",
          "text": [
            "20 \n",
            " [ 0  3  6  9 12 15 18 21 24 27 30 33 36 39 42 45 48 51 54 57]\n"
          ],
          "name": "stdout"
        }
      ]
    },
    {
      "cell_type": "markdown",
      "metadata": {
        "id": "QIp4U7C1ShAd"
      },
      "source": [
        "3. 다음 배열을 3차원이고, 행과 열이 2인 배열로 바꾸세요\n",
        "\n",
        "\n",
        "``np.arange(12)``"
      ]
    },
    {
      "cell_type": "code",
      "metadata": {
        "id": "7HCNXJ01SojP",
        "colab": {
          "base_uri": "https://localhost:8080/"
        },
        "outputId": "970c8b04-ba0a-4691-fc3a-ce82a8f24bb7"
      },
      "source": [
        "a = np.arange(12).reshape(3, 2, 2)\n",
        "print(a)"
      ],
      "execution_count": null,
      "outputs": [
        {
          "output_type": "stream",
          "text": [
            "[[[ 0  1]\n",
            "  [ 2  3]]\n",
            "\n",
            " [[ 4  5]\n",
            "  [ 6  7]]\n",
            "\n",
            " [[ 8  9]\n",
            "  [10 11]]]\n"
          ],
          "name": "stdout"
        }
      ]
    },
    {
      "cell_type": "markdown",
      "metadata": {
        "id": "v9qhIA2vSwtO"
      },
      "source": [
        "4. 다음 두 배열을 곱할 수 있는 모양으로 바꾼 후, 각 원소끼리 곱하세요 (Elementwise product)\n",
        "\n",
        "``a = np.array([[1, 2, 3], [4, 5, 6], [7, 8, 9], [10, 11, 12]])``\n",
        "\n",
        "\n",
        "``b = np.arange(12)``"
      ]
    },
    {
      "cell_type": "code",
      "metadata": {
        "id": "QSDS8DIfS7fC",
        "colab": {
          "base_uri": "https://localhost:8080/"
        },
        "outputId": "901244b1-9260-4aef-ce2a-45b3aa5f6b8b"
      },
      "source": [
        "a = np.array([[1, 2, 3], [4, 5, 6], [7, 8, 9], [10, 11, 12]])\n",
        "b = np.arange(12)\n",
        "\n",
        "print(a.shape, b.shape)"
      ],
      "execution_count": null,
      "outputs": [
        {
          "output_type": "stream",
          "text": [
            "(4, 3) (12,)\n"
          ],
          "name": "stdout"
        }
      ]
    },
    {
      "cell_type": "code",
      "metadata": {
        "colab": {
          "base_uri": "https://localhost:8080/"
        },
        "id": "zBrDt1zDIRV6",
        "outputId": "0c164e98-2176-40cb-ff82-68bc1685af16"
      },
      "source": [
        "b = b.reshape(4, 3)\n",
        "print(a * b)"
      ],
      "execution_count": null,
      "outputs": [
        {
          "output_type": "stream",
          "text": [
            "[[  0   2   6]\n",
            " [ 12  20  30]\n",
            " [ 42  56  72]\n",
            " [ 90 110 132]]\n"
          ],
          "name": "stdout"
        }
      ]
    },
    {
      "cell_type": "code",
      "metadata": {
        "colab": {
          "base_uri": "https://localhost:8080/"
        },
        "id": "cma6m6W7Ighw",
        "outputId": "1a7bd5ed-2729-45f6-8054-fbf83cb697e7"
      },
      "source": [
        "# 4, 3 * 3, 4\n",
        "a.dot(b.T)"
      ],
      "execution_count": null,
      "outputs": [
        {
          "output_type": "execute_result",
          "data": {
            "text/plain": [
              "array([[  8,  26,  44,  62],\n",
              "       [ 17,  62, 107, 152],\n",
              "       [ 26,  98, 170, 242],\n",
              "       [ 35, 134, 233, 332]])"
            ]
          },
          "metadata": {
            "tags": []
          },
          "execution_count": 13
        }
      ]
    },
    {
      "cell_type": "markdown",
      "metadata": {
        "id": "qCOldCjLTiv1"
      },
      "source": [
        " 5. 다음 array 2개를 열방향으로 합치세요\n",
        "\n",
        " ``a = np.floor(10 * np.random.random((2,2)))`` \n",
        "\n",
        " ``b = np.floor(10 * np.random.random((2,2)))``"
      ]
    },
    {
      "cell_type": "code",
      "metadata": {
        "id": "lyB1O7mXTrei"
      },
      "source": [
        "a = np.floor(10 * np.random.random((2,2)))\n",
        "b = np.floor(10 * np.random.random((2,2)))"
      ],
      "execution_count": null,
      "outputs": []
    },
    {
      "cell_type": "code",
      "metadata": {
        "colab": {
          "base_uri": "https://localhost:8080/"
        },
        "id": "QaLv5g-UI2-N",
        "outputId": "3ad71aeb-3fec-4c3a-8c42-18f249f64685"
      },
      "source": [
        "np.vstack((a, b))"
      ],
      "execution_count": null,
      "outputs": [
        {
          "output_type": "execute_result",
          "data": {
            "text/plain": [
              "array([[5., 4.],\n",
              "       [4., 0.],\n",
              "       [4., 6.],\n",
              "       [8., 2.]])"
            ]
          },
          "metadata": {
            "tags": []
          },
          "execution_count": 16
        }
      ]
    },
    {
      "cell_type": "code",
      "metadata": {
        "colab": {
          "base_uri": "https://localhost:8080/"
        },
        "id": "aTh6mJkpI7gk",
        "outputId": "b9649536-fe8a-4e26-cb19-91d5e5934ac6"
      },
      "source": [
        "np.hstack((a, b))"
      ],
      "execution_count": null,
      "outputs": [
        {
          "output_type": "execute_result",
          "data": {
            "text/plain": [
              "array([[5., 4., 4., 6.],\n",
              "       [4., 0., 8., 2.]])"
            ]
          },
          "metadata": {
            "tags": []
          },
          "execution_count": 17
        }
      ]
    },
    {
      "cell_type": "code",
      "metadata": {
        "colab": {
          "base_uri": "https://localhost:8080/"
        },
        "id": "zrbtnamoI_bc",
        "outputId": "8cbfa298-a399-46dd-99fc-7d490cae639c"
      },
      "source": [
        "np.hstack(a)"
      ],
      "execution_count": null,
      "outputs": [
        {
          "output_type": "execute_result",
          "data": {
            "text/plain": [
              "array([5., 4., 4., 0.])"
            ]
          },
          "metadata": {
            "tags": []
          },
          "execution_count": 18
        }
      ]
    },
    {
      "cell_type": "markdown",
      "metadata": {
        "id": "gZoBZCpzT89L"
      },
      "source": [
        "6. 다음 데이터를 아래 그림과 같은 모양으로 출력하세요\n",
        "\n",
        "``a = np.arange(10)``\n",
        "\n",
        "![image.png](data:image/png;base64,iVBORw0KGgoAAAANSUhEUgAAAJEAAAAxCAYAAADaxEvNAAAEHklEQVR4Ae1aS25kQQjLsXL/O+Q8GbGwhNz8qkD9ybBo8QBjeIVTnUV/fX9//+5nz6Cjga9O8dau+EQDK6K9idvfRCuiFdGKaL9SX/+V+udvop+fH/MvTeL4eEJE3uPw6l4Zf8XMf1pE0fKjHERQwQD7bvaZs/9ZEWWHmOVFFFWM4CrYrtDQp9KrgunOg/oVUfCPdbYIzrOPQ56wzM0+98jyjO/4K6JLEXlL8uKdJXmcXlx6RbnOLFZtKiIZBh+LAMMCA6uxFYzgUQu8xaFjqKnEpjHWjN483PvUv+nl1Zz2ruBDEfEg7EsDiVlx3byK4ZrIR87qbcWAh53CgA+2wgts10a9oly3L9e7IvKG4Dj73ED8DOPldVw/6x5W3IrpmspMVYzmrfTV+M5z1ivLd3pzrSsiBsLn4dgHTtsKRuPxzHWZ79Uhri1z6RyeK5gbLGpOrcyDT1Z7MnvGleVTEWFobTVpZdgKRjh1DzxHvTxeLx5x6RyeqzwVHDinbNYzy0/NITyhiKxBOMa+NdwtxqpDDHayH3NFPQSb5Zlv2o/6R7npOVwReUNwnH1rwAzj5a04YrA3/aQmqgdnhIlyqJ+yXi8vXn2/qfk+TkTVA4oOeIIj459aUDRrNEOUm5xNuFwRWcPLYDwc+9aANxirF7hv+FAL2+Wo1KOX2FO8rrXqM75unvtHfigiDC8D6aG8Z6+RxnuYSi/UVvgyTJbHPOjJVuq9D2MzLgtvxXQ/K69j2ftlec2VPaciygienT95+Qgb5fBOFQywmZ3kynpJPuuX5Ss9gPkYEclL37y4VwM+L49FAIcDu7FRjxu+qAbzRj2jXMTt5T5GRN4LbHx/2Wj+6nCF8XphnOxgb6LgpyAnB/k/Y1dEK6L2t8GKKBBR5Z/Ud7uBKjNnmNN/vFdEiYjeTSTVeSpCiDBRjmdYETVFJIeNDx/utI8+lQVPYCoc8o4rooaI+JDZnxQRc7PPvbK84DNMlkfPFdGliLwD9uI48BvrcXrxikAmMSuiDxZRJMhIYKibwqyILkWERbCtLIZrMv+Gs1IzhVkRDYqospRMMFYevGLxsXA6hhod4+cpzIqoKSIstbIQXmLVRw+Nz/pleeGawqyImiI6WazGnjx7y/bikwKJeuAdVkSDIqouD4dftd4ivXh1jqges1UwK6JLEXmH68WxlBvrcXrxFVGw1JsFdGpulhTV3M7icXrxFdGHiMhaVHepkciYm32uzfLW/DccUrNfZ4Foq4sQXIbN8rxAy0efCtcEpsKxIgoEJIdTPURr4Ryb5GJuy6/0izBRjvvtTRQISQ4SHz64E/9kISe8FhbzRj0zTFRr9VwRBSKyDmxjj7//XhGtiPbnsXszPN4Mzz6TvYn2Jtqb6Nl/ddvv8ebbm2hvovZN9A9ysZYu/5B8nAAAAABJRU5ErkJggg==)\n"
      ]
    },
    {
      "cell_type": "code",
      "metadata": {
        "id": "8WzBdm5fUqMC",
        "colab": {
          "base_uri": "https://localhost:8080/"
        },
        "outputId": "f15c0784-6190-48de-f76c-365ae4276882"
      },
      "source": [
        "a = np.arange(10)\n",
        "print(a)"
      ],
      "execution_count": null,
      "outputs": [
        {
          "output_type": "stream",
          "text": [
            "[0 1 2 3 4 5 6 7 8 9]\n"
          ],
          "name": "stdout"
        }
      ]
    },
    {
      "cell_type": "code",
      "metadata": {
        "colab": {
          "base_uri": "https://localhost:8080/"
        },
        "id": "XS_dH0qVJHnj",
        "outputId": "f7d520b0-b57e-4882-8b01-75cb9cc8b940"
      },
      "source": [
        "index1 = np.array([[2, 3], [3, 6]])\n",
        "a[index1]"
      ],
      "execution_count": null,
      "outputs": [
        {
          "output_type": "execute_result",
          "data": {
            "text/plain": [
              "array([[2, 3],\n",
              "       [3, 6]])"
            ]
          },
          "metadata": {
            "tags": []
          },
          "execution_count": 20
        }
      ]
    },
    {
      "cell_type": "markdown",
      "metadata": {
        "id": "WNBlaGhmVLVf"
      },
      "source": [
        "7. (2, 2) shape의 True 값만 가지는 배열을 생성하세요"
      ]
    },
    {
      "cell_type": "code",
      "metadata": {
        "id": "QZhvIfWbUSka",
        "colab": {
          "base_uri": "https://localhost:8080/"
        },
        "outputId": "61f30633-ff7f-467b-c49c-b5ebdc1cefb0"
      },
      "source": [
        "np.ones((2,2), dtype=bool)"
      ],
      "execution_count": null,
      "outputs": [
        {
          "output_type": "execute_result",
          "data": {
            "text/plain": [
              "array([[ True,  True],\n",
              "       [ True,  True]])"
            ]
          },
          "metadata": {
            "tags": []
          },
          "execution_count": 21
        }
      ]
    },
    {
      "cell_type": "code",
      "metadata": {
        "colab": {
          "base_uri": "https://localhost:8080/"
        },
        "id": "miLDFDzGJk9H",
        "outputId": "af6ac52b-565d-4e48-a1c1-be5f7b7288e6"
      },
      "source": [
        "np.zeros((2,2), dtype=bool)"
      ],
      "execution_count": null,
      "outputs": [
        {
          "output_type": "execute_result",
          "data": {
            "text/plain": [
              "array([[False, False],\n",
              "       [False, False]])"
            ]
          },
          "metadata": {
            "tags": []
          },
          "execution_count": 22
        }
      ]
    },
    {
      "cell_type": "markdown",
      "metadata": {
        "id": "RY47bsTLW_Gr"
      },
      "source": [
        "8. 다음 배열의 평균, 중앙값, 최대, 최소, 표준편차를 구하세요\n",
        "\n",
        "``a = np.array([[1, 2, 3], [12, 34, 11], [4, 7, 5], [-1, -4, 0]])``"
      ]
    },
    {
      "cell_type": "code",
      "metadata": {
        "id": "aX0aNwoLXTZ8"
      },
      "source": [
        "a = np.array([[1, 2, 3], [12, 34, 11], [4, 7, 5], [-1, -4, 0]])"
      ],
      "execution_count": null,
      "outputs": []
    },
    {
      "cell_type": "code",
      "metadata": {
        "id": "ulVQSSvdXZoX",
        "colab": {
          "base_uri": "https://localhost:8080/"
        },
        "outputId": "843b2511-b5dc-4601-f3e6-27489f571c48"
      },
      "source": [
        "print(a.mean(), np.median(a), a.max(), a.min(), a.std())"
      ],
      "execution_count": null,
      "outputs": [
        {
          "output_type": "stream",
          "text": [
            "6.166666666666667 3.5 34 -4 9.51168871558685\n"
          ],
          "name": "stdout"
        }
      ]
    },
    {
      "cell_type": "markdown",
      "metadata": {
        "id": "RNmkl1VqYCvN"
      },
      "source": [
        "9. 다음 데이터를 255로 나누고, dtype=float으로 만드세요\n",
        "\n",
        "``a = np.array([[2, -4, 4], [255, 201, 211], [65, 12, 34]])``"
      ]
    },
    {
      "cell_type": "code",
      "metadata": {
        "id": "qMWRr0FOa92-",
        "colab": {
          "base_uri": "https://localhost:8080/"
        },
        "outputId": "712c2a87-d1c6-4d0a-a70d-cfdab4ceff74"
      },
      "source": [
        "a = np.array([[2, -4, 4], [255, 201, 211], [65, 12, 34]])\n",
        "print(a.dtype)"
      ],
      "execution_count": null,
      "outputs": [
        {
          "output_type": "stream",
          "text": [
            "int64\n"
          ],
          "name": "stdout"
        }
      ]
    },
    {
      "cell_type": "code",
      "metadata": {
        "colab": {
          "base_uri": "https://localhost:8080/"
        },
        "id": "Ug9N8uH4KJVD",
        "outputId": "2f967307-47b5-48c8-cc24-65815027c18d"
      },
      "source": [
        "a = a / 255\n",
        "a = a.astype(float)\n",
        "\n",
        "print(a.dtype)"
      ],
      "execution_count": null,
      "outputs": [
        {
          "output_type": "stream",
          "text": [
            "float64\n"
          ],
          "name": "stdout"
        }
      ]
    },
    {
      "cell_type": "code",
      "metadata": {
        "colab": {
          "base_uri": "https://localhost:8080/"
        },
        "id": "xMX68nXZKTkp",
        "outputId": "d98c7a99-65c3-49b0-d506-e874109944e0"
      },
      "source": [
        "# RGB 표준화 때 주로 사용\n",
        "a = a / 255.\n",
        "print(a.dtype)"
      ],
      "execution_count": null,
      "outputs": [
        {
          "output_type": "stream",
          "text": [
            "float64\n"
          ],
          "name": "stdout"
        }
      ]
    },
    {
      "cell_type": "markdown",
      "metadata": {
        "id": "ZeGvmikrUFPg"
      },
      "source": [
        "10. 아래와 같이 수행하세요\n",
        "\n",
        "    (1) 각 요소의 최대값이 255인 (3, 3, 3)의 shape을 가지는 배열을 생성하세요 (dtype=int)\n",
        "\n",
        "    (2) 각 1번 열의 값은 1이고, 0번, 3번 열의 값은 0인 (3, 3, 3)의 shape을 가지는 배열을 생성하세요\n",
        "\n",
        "    (3) 만들어진 두 배열을 곱하세요 (elementwise product)"
      ]
    },
    {
      "cell_type": "code",
      "metadata": {
        "id": "WnivWUoAVVD5",
        "colab": {
          "base_uri": "https://localhost:8080/"
        },
        "outputId": "48fbc872-f471-41d9-b1b3-f89b85ae1543"
      },
      "source": [
        "a = np.random.uniform(0, 256, size=(3,3,3)).astype(int)\n",
        "print(a, '\\n', a.shape, a.dtype)"
      ],
      "execution_count": null,
      "outputs": [
        {
          "output_type": "stream",
          "text": [
            "[[[ 40 110  14]\n",
            "  [ 89  89  72]\n",
            "  [234  51 243]]\n",
            "\n",
            " [[ 45 158 190]\n",
            "  [139  68  57]\n",
            "  [111  93  59]]\n",
            "\n",
            " [[ 34 126 166]\n",
            "  [ 33 177 145]\n",
            "  [ 14 219 168]]] \n",
            " (3, 3, 3) int64\n"
          ],
          "name": "stdout"
        }
      ]
    },
    {
      "cell_type": "code",
      "metadata": {
        "id": "sM4h0qlTVVhm"
      },
      "source": [
        "def func(x, y, z) : \n",
        "    #if z % 2 == 0 : \n",
        "    #    return 0\n",
        "    #else : return 1\n",
        "    return np.where(z % 2 == 0, 0, 1)"
      ],
      "execution_count": null,
      "outputs": []
    },
    {
      "cell_type": "code",
      "metadata": {
        "id": "6XMifp3uMC1-"
      },
      "source": [
        "b = np.fromfunction(func, (3, 3, 3))"
      ],
      "execution_count": null,
      "outputs": []
    },
    {
      "cell_type": "code",
      "metadata": {
        "colab": {
          "base_uri": "https://localhost:8080/"
        },
        "id": "IUKJQXaXMMvd",
        "outputId": "ef45a1a2-958f-4f11-c8f3-38f7cfc3bf6e"
      },
      "source": [
        "print(b)"
      ],
      "execution_count": null,
      "outputs": [
        {
          "output_type": "stream",
          "text": [
            "[[[0 1 0]\n",
            "  [0 1 0]\n",
            "  [0 1 0]]\n",
            "\n",
            " [[0 1 0]\n",
            "  [0 1 0]\n",
            "  [0 1 0]]\n",
            "\n",
            " [[0 1 0]\n",
            "  [0 1 0]\n",
            "  [0 1 0]]]\n"
          ],
          "name": "stdout"
        }
      ]
    },
    {
      "cell_type": "code",
      "metadata": {
        "id": "UYQw2A0RL8Ds"
      },
      "source": [
        "c = a * b"
      ],
      "execution_count": null,
      "outputs": []
    },
    {
      "cell_type": "code",
      "metadata": {
        "colab": {
          "base_uri": "https://localhost:8080/"
        },
        "id": "Ltj5WFpgMAeN",
        "outputId": "bd2d8fd6-fde7-4221-d3c1-f0530ce553c1"
      },
      "source": [
        "c"
      ],
      "execution_count": null,
      "outputs": [
        {
          "output_type": "execute_result",
          "data": {
            "text/plain": [
              "array([[[  0, 110,   0],\n",
              "        [  0,  89,   0],\n",
              "        [  0,  51,   0]],\n",
              "\n",
              "       [[  0, 158,   0],\n",
              "        [  0,  68,   0],\n",
              "        [  0,  93,   0]],\n",
              "\n",
              "       [[  0, 126,   0],\n",
              "        [  0, 177,   0],\n",
              "        [  0, 219,   0]]])"
            ]
          },
          "metadata": {
            "tags": []
          },
          "execution_count": 33
        }
      ]
    },
    {
      "cell_type": "code",
      "metadata": {
        "id": "TFYB3Xm7MKdN"
      },
      "source": [
        "import matplotlib.pyplot as plt"
      ],
      "execution_count": null,
      "outputs": []
    },
    {
      "cell_type": "code",
      "metadata": {
        "colab": {
          "base_uri": "https://localhost:8080/",
          "height": 288
        },
        "id": "HJ6REbEQMvdC",
        "outputId": "10f596c3-a5f2-4f2a-8b77-038f5666a89b"
      },
      "source": [
        "plt.imshow(a)"
      ],
      "execution_count": null,
      "outputs": [
        {
          "output_type": "execute_result",
          "data": {
            "text/plain": [
              "<matplotlib.image.AxesImage at 0x7f8c9a388b50>"
            ]
          },
          "metadata": {
            "tags": []
          },
          "execution_count": 37
        },
        {
          "output_type": "display_data",
          "data": {
            "image/png": "[encoded data removed]",
            "text/plain": [
              "<Figure size 432x288 with 1 Axes>"
            ]
          },
          "metadata": {
            "tags": [],
            "needs_background": "light"
          }
        }
      ]
    },
    {
      "cell_type": "code",
      "metadata": {
        "colab": {
          "base_uri": "https://localhost:8080/",
          "height": 288
        },
        "id": "TbR1g72_M12x",
        "outputId": "eeb878cd-d6f2-4f73-fbad-aa43bfce682d"
      },
      "source": [
        "plt.imshow(c)"
      ],
      "execution_count": null,
      "outputs": [
        {
          "output_type": "execute_result",
          "data": {
            "text/plain": [
              "<matplotlib.image.AxesImage at 0x7f8c99cf1f90>"
            ]
          },
          "metadata": {
            "tags": []
          },
          "execution_count": 39
        },
        {
          "output_type": "display_data",
          "data": {
            "image/png": "[encoded data removed]",
            "text/plain": [
              "<Figure size 432x288 with 1 Axes>"
            ]
          },
          "metadata": {
            "tags": [],
            "needs_background": "light"
          }
        }
      ]
    },
    {
      "cell_type": "code",
      "metadata": {
        "id": "CtJgD8jCM6zw"
      },
      "source": [
        ""
      ],
      "execution_count": null,
      "outputs": []
    }
  ]
}