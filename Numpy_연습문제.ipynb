{
  "nbformat": 4,
  "nbformat_minor": 0,
  "metadata": {
    "colab": {
      "name": "Numpy 연습문제.ipynb",
      "provenance": [],
      "authorship_tag": "ABX9TyPWeNnXhNBNqjwjCWu57JLk",
      "include_colab_link": true
    },
    "kernelspec": {
      "name": "python3",
      "display_name": "Python 3"
    },
    "language_info": {
      "name": "python"
    }
  },
  "cells": [
    {
      "cell_type": "markdown",
      "metadata": {
        "id": "view-in-github",
        "colab_type": "text"
      },
      "source": [
        "<a href=\"https://colab.research.google.com/github/leejineun/ai-class/blob/main/Numpy_%EC%97%B0%EC%8A%B5%EB%AC%B8%EC%A0%9C.ipynb\" target=\"_parent\"><img src=\"https://colab.research.google.com/assets/colab-badge.svg\" alt=\"Open In Colab\"/></a>"
      ]
    },
    {
      "cell_type": "code",
      "metadata": {
        "id": "xmFh5gvpSTSI"
      },
      "source": [
        "import numpy as np"
      ],
      "execution_count": 1,
      "outputs": []
    },
    {
      "cell_type": "markdown",
      "metadata": {
        "id": "pJ4babpDSJWv"
      },
      "source": [
        "1. ndim=3, size=27인 모든 원소가 0으로 된 배열을 생성하세요"
      ]
    },
    {
      "cell_type": "code",
      "metadata": {
        "id": "NQS93Ry7SYD2"
      },
      "source": [
        ""
      ],
      "execution_count": null,
      "outputs": []
    },
    {
      "cell_type": "markdown",
      "metadata": {
        "id": "sas10r2ySZB3"
      },
      "source": [
        "2. 배열 내의 원소간의 간격이 3이고, 배열의 길이가 20인 배열을 생성하시오"
      ]
    },
    {
      "cell_type": "code",
      "metadata": {
        "id": "f_M10r52Se8-"
      },
      "source": [
        ""
      ],
      "execution_count": null,
      "outputs": []
    },
    {
      "cell_type": "markdown",
      "metadata": {
        "id": "QIp4U7C1ShAd"
      },
      "source": [
        "3. 다음 배열을 ndim=3, 행과 열이 2인 배열로 바꾸세요\n",
        "\n",
        "    ``np.arange(12)``"
      ]
    },
    {
      "cell_type": "code",
      "metadata": {
        "id": "7HCNXJ01SojP"
      },
      "source": [
        ""
      ],
      "execution_count": null,
      "outputs": []
    },
    {
      "cell_type": "markdown",
      "metadata": {
        "id": "v9qhIA2vSwtO"
      },
      "source": [
        "4. 다음 두 벡터를 곱할 수 있는 모양으로 바꾼 후, 각 원소끼리 곱하세요 (Elementwise product)\n",
        "\n",
        "``a = np.array([[1, 2, 3], [4, 5, 6], [7, 8, 9], [10, 11, 12]])``\n",
        "\n",
        "\n",
        "``b = np.arange(12)``"
      ]
    },
    {
      "cell_type": "code",
      "metadata": {
        "id": "QSDS8DIfS7fC"
      },
      "source": [
        ""
      ],
      "execution_count": null,
      "outputs": []
    },
    {
      "cell_type": "markdown",
      "metadata": {
        "id": "qCOldCjLTiv1"
      },
      "source": [
        " 5. 다음 array 2개를 열방향으로 합치세요\n",
        "\n",
        " ``a = np.floor(10 * np.random.random((2,2)))`` \n",
        "\n",
        " ``b = np.floor(10 * np.random.random((2,2)))``"
      ]
    },
    {
      "cell_type": "code",
      "metadata": {
        "id": "lyB1O7mXTrei"
      },
      "source": [
        ""
      ],
      "execution_count": null,
      "outputs": []
    },
    {
      "cell_type": "markdown",
      "metadata": {
        "id": "gZoBZCpzT89L"
      },
      "source": [
        "6. 다음 데이터를 아래 그림과 같은 모양으로 인덱싱하세요\n",
        "\n",
        "``a = np.arange(10)``\n",
        "\n",
        "![image.png](data:image/png;base64,iVBORw0KGgoAAAANSUhEUgAAAJEAAAAxCAYAAADaxEvNAAAEHklEQVR4Ae1aS25kQQjLsXL/O+Q8GbGwhNz8qkD9ybBo8QBjeIVTnUV/fX9//+5nz6Cjga9O8dau+EQDK6K9idvfRCuiFdGKaL9SX/+V+udvop+fH/MvTeL4eEJE3uPw6l4Zf8XMf1pE0fKjHERQwQD7bvaZs/9ZEWWHmOVFFFWM4CrYrtDQp9KrgunOg/oVUfCPdbYIzrOPQ56wzM0+98jyjO/4K6JLEXlL8uKdJXmcXlx6RbnOLFZtKiIZBh+LAMMCA6uxFYzgUQu8xaFjqKnEpjHWjN483PvUv+nl1Zz2ruBDEfEg7EsDiVlx3byK4ZrIR87qbcWAh53CgA+2wgts10a9oly3L9e7IvKG4Dj73ED8DOPldVw/6x5W3IrpmspMVYzmrfTV+M5z1ivLd3pzrSsiBsLn4dgHTtsKRuPxzHWZ79Uhri1z6RyeK5gbLGpOrcyDT1Z7MnvGleVTEWFobTVpZdgKRjh1DzxHvTxeLx5x6RyeqzwVHDinbNYzy0/NITyhiKxBOMa+NdwtxqpDDHayH3NFPQSb5Zlv2o/6R7npOVwReUNwnH1rwAzj5a04YrA3/aQmqgdnhIlyqJ+yXi8vXn2/qfk+TkTVA4oOeIIj459aUDRrNEOUm5xNuFwRWcPLYDwc+9aANxirF7hv+FAL2+Wo1KOX2FO8rrXqM75unvtHfigiDC8D6aG8Z6+RxnuYSi/UVvgyTJbHPOjJVuq9D2MzLgtvxXQ/K69j2ftlec2VPaciygienT95+Qgb5fBOFQywmZ3kynpJPuuX5Ss9gPkYEclL37y4VwM+L49FAIcDu7FRjxu+qAbzRj2jXMTt5T5GRN4LbHx/2Wj+6nCF8XphnOxgb6LgpyAnB/k/Y1dEK6L2t8GKKBBR5Z/Ud7uBKjNnmNN/vFdEiYjeTSTVeSpCiDBRjmdYETVFJIeNDx/utI8+lQVPYCoc8o4rooaI+JDZnxQRc7PPvbK84DNMlkfPFdGliLwD9uI48BvrcXrxikAmMSuiDxZRJMhIYKibwqyILkWERbCtLIZrMv+Gs1IzhVkRDYqospRMMFYevGLxsXA6hhod4+cpzIqoKSIstbIQXmLVRw+Nz/pleeGawqyImiI6WazGnjx7y/bikwKJeuAdVkSDIqouD4dftd4ivXh1jqges1UwK6JLEXmH68WxlBvrcXrxFVGw1JsFdGpulhTV3M7icXrxFdGHiMhaVHepkciYm32uzfLW/DccUrNfZ4Foq4sQXIbN8rxAy0efCtcEpsKxIgoEJIdTPURr4Ryb5GJuy6/0izBRjvvtTRQISQ4SHz64E/9kISe8FhbzRj0zTFRr9VwRBSKyDmxjj7//XhGtiPbnsXszPN4Mzz6TvYn2Jtqb6Nl/ddvv8ebbm2hvovZN9A9ysZYu/5B8nAAAAABJRU5ErkJggg==)\n"
      ]
    },
    {
      "cell_type": "code",
      "metadata": {
        "id": "8WzBdm5fUqMC"
      },
      "source": [
        ""
      ],
      "execution_count": null,
      "outputs": []
    },
    {
      "cell_type": "markdown",
      "metadata": {
        "id": "WNBlaGhmVLVf"
      },
      "source": [
        "7. (2, 2) shape의 True 값만 가지는 배열을 생성하세요"
      ]
    },
    {
      "cell_type": "code",
      "metadata": {
        "id": "QZhvIfWbUSka"
      },
      "source": [
        ""
      ],
      "execution_count": 4,
      "outputs": []
    },
    {
      "cell_type": "markdown",
      "metadata": {
        "id": "RY47bsTLW_Gr"
      },
      "source": [
        "8. 다음 배열의 평균, 중앙값, 최대, 최소, 표준편차를 구하세요\n",
        "\n",
        "``a = np.array([[1, 2, 3], [12, 34, 11], [4, 7, 5], [-1, -4, 0]])``"
      ]
    },
    {
      "cell_type": "code",
      "metadata": {
        "id": "aX0aNwoLXTZ8"
      },
      "source": [
        " a = np.array([[1, 2, 3], [12, 34, 11], [4, 7, 5], [-1, -4, 0]])"
      ],
      "execution_count": 6,
      "outputs": []
    },
    {
      "cell_type": "code",
      "metadata": {
        "colab": {
          "base_uri": "https://localhost:8080/"
        },
        "id": "ulVQSSvdXZoX",
        "outputId": "7fcf0911-f844-4f9e-ecbf-82f624cac78e"
      },
      "source": [
        "print(a.mean(), np.median(a), a.max(), a.min(), a.std())"
      ],
      "execution_count": 11,
      "outputs": [
        {
          "output_type": "stream",
          "text": [
            "6.166666666666667 3.5 34 -4 9.51168871558685\n"
          ],
          "name": "stdout"
        }
      ]
    },
    {
      "cell_type": "markdown",
      "metadata": {
        "id": "RNmkl1VqYCvN"
      },
      "source": [
        "9. "
      ]
    },
    {
      "cell_type": "markdown",
      "metadata": {
        "id": "ZeGvmikrUFPg"
      },
      "source": [
        "7. 아래와 같이 수행하세요\n",
        "\n",
        "    (1) 각 요소의 최대값이 255인 (3, 3, 3)의 shape을 가지는 벡터를 생성하세요 (dtype=int)\n",
        "\n",
        "    (2) 각 1번 열의 값은 1이고, 0번, 3번 열의 값은 0인 (3, 3, 3)의 shape을 가지는 벡터를 생성하세요\n",
        "\n",
        "    (3) 만들어진 두 벡터를 곱하세요"
      ]
    },
    {
      "cell_type": "code",
      "metadata": {
        "id": "WnivWUoAVVD5"
      },
      "source": [
        ""
      ],
      "execution_count": null,
      "outputs": []
    },
    {
      "cell_type": "code",
      "metadata": {
        "id": "sM4h0qlTVVhm"
      },
      "source": [
        ""
      ],
      "execution_count": null,
      "outputs": []
    }
  ]
}