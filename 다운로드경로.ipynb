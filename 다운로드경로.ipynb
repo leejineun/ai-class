{
  "nbformat": 4,
  "nbformat_minor": 0,
  "metadata": {
    "colab": {
      "name": "Untitled3.ipynb",
      "provenance": [],
      "collapsed_sections": [],
      "authorship_tag": "ABX9TyM6oHkAPxH+u3E3H7va0rf+",
      "include_colab_link": true
    },
    "kernelspec": {
      "name": "python3",
      "display_name": "Python 3"
    },
    "language_info": {
      "name": "python"
    }
  },
  "cells": [
    {
      "cell_type": "markdown",
      "metadata": {
        "id": "view-in-github",
        "colab_type": "text"
      },
      "source": [
        "<a href=\"https://colab.research.google.com/github/leejineun/ai-class/blob/main/%EB%8B%A4%EC%9A%B4%EB%A1%9C%EB%93%9C%EA%B2%BD%EB%A1%9C.ipynb\" target=\"_parent\"><img src=\"https://colab.research.google.com/assets/colab-badge.svg\" alt=\"Open In Colab\"/></a>"
      ]
    },
    {
      "cell_type": "code",
      "metadata": {
        "id": "WJaQ1npUbq7I"
      },
      "source": [
        "https://drive.google.com/file/d/1DYTh6Egv3T-CuMW1anOilo1cn0ODiqPR/view?usp=sharing"
      ],
      "execution_count": null,
      "outputs": []
    },
    {
      "cell_type": "code",
      "metadata": {
        "id": "s--KpH0b0oXS"
      },
      "source": [
        "https://github.com/opencv/opencv/tree/master/data/haarcascades"
      ],
      "execution_count": null,
      "outputs": []
    }
  ]
}