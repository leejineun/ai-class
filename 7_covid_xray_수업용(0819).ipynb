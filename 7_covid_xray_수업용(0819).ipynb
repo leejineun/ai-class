{
  "nbformat": 4,
  "nbformat_minor": 0,
  "metadata": {
    "colab": {
      "name": "7.covid-xray-수업용(0819).ipynb",
      "provenance": [],
      "collapsed_sections": [],
      "authorship_tag": "ABX9TyMuTq9lh8dqjsi6nOjuaG6R",
      "include_colab_link": true
    },
    "kernelspec": {
      "name": "python3",
      "display_name": "Python 3"
    },
    "language_info": {
      "name": "python"
    }
  },
  "cells": [
    {
      "cell_type": "markdown",
      "metadata": {
        "id": "view-in-github",
        "colab_type": "text"
      },
      "source": [
        "<a href=\"https://colab.research.google.com/github/leejineun/ai-class/blob/main/7_covid_xray_%EC%88%98%EC%97%85%EC%9A%A9(0819).ipynb\" target=\"_parent\"><img src=\"https://colab.research.google.com/assets/colab-badge.svg\" alt=\"Open In Colab\"/></a>"
      ]
    },
    {
      "cell_type": "code",
      "metadata": {
        "id": "sSCkrK9ayYbA"
      },
      "source": [
        "from google.colab import files\n",
        "files.upload()"
      ],
      "execution_count": null,
      "outputs": []
    },
    {
      "cell_type": "code",
      "metadata": {
        "id": "XjyeEp-kWvsu"
      },
      "source": [
        "!mkdir ~/.kaggle"
      ],
      "execution_count": null,
      "outputs": []
    },
    {
      "cell_type": "code",
      "metadata": {
        "id": "Cb_6-5DHyZl3"
      },
      "source": [
        "!cp kaggle.json ~/.kaggle/kaggle.json"
      ],
      "execution_count": null,
      "outputs": []
    },
    {
      "cell_type": "code",
      "metadata": {
        "id": "ffSXy_AWycI4"
      },
      "source": [
        "!kaggle datasets download -d praveengovi/coronahack-chest-xraydataset"
      ],
      "execution_count": null,
      "outputs": []
    },
    {
      "cell_type": "code",
      "metadata": {
        "id": "MXD8rBIcyde4"
      },
      "source": [
        "!ls"
      ],
      "execution_count": null,
      "outputs": []
    },
    {
      "cell_type": "code",
      "metadata": {
        "id": "cApYzub0yd9i"
      },
      "source": [
        "!unzip coronahack-chest-xraydataset.zip"
      ],
      "execution_count": null,
      "outputs": []
    },
    {
      "cell_type": "code",
      "metadata": {
        "id": "RprpT-5ZW6xO"
      },
      "source": [
        "from keras import backend as K\n",
        "from keras.preprocessing.image import ImageDataGenerator,load_img, img_to_array\n",
        "from keras.models import Sequential, Model\n",
        "from keras.layers import Conv2D, MaxPooling2D #GlobalAveragePooling2D\n",
        "from keras.layers import Activation, Dropout, Flatten, Dense, MaxPool2D #BatchNormalization, AvgPool2D\n",
        "from keras.models import Sequential, Model\n",
        "from keras.applications.vgg16 import VGG16, preprocess_input\n",
        "from tensorflow.keras.optimizers import Adam\n",
        "\n",
        "import tensorflow as tf\n",
        "\n",
        "import os\n",
        "import numpy as np\n",
        "import pandas as pd\n",
        "from os import listdir\n",
        "\n",
        "import matplotlib.pyplot as plt\n",
        "%matplotlib inline"
      ],
      "execution_count": null,
      "outputs": []
    },
    {
      "cell_type": "code",
      "metadata": {
        "id": "kvIERrMtXK9W"
      },
      "source": [
        "import warnings\n",
        "warnings.filterwarnings(action='ignore')"
      ],
      "execution_count": null,
      "outputs": []
    },
    {
      "cell_type": "code",
      "metadata": {
        "id": "Url2xgW9XRyF"
      },
      "source": [
        "metadata_path = './Chest_xray_Corona_Metadata.csv'\n",
        "metadata = pd.read_csv(metadata_path, index_col=0)"
      ],
      "execution_count": null,
      "outputs": []
    },
    {
      "cell_type": "code",
      "metadata": {
        "id": "oG75PBx-XUFF"
      },
      "source": [
        "metadata.head()"
      ],
      "execution_count": null,
      "outputs": []
    },
    {
      "cell_type": "code",
      "metadata": {
        "id": "bGqu9RhGXYVt"
      },
      "source": [
        "metadata['Label'].unique()"
      ],
      "execution_count": null,
      "outputs": []
    },
    {
      "cell_type": "code",
      "metadata": {
        "id": "_K3CGEijXdKE"
      },
      "source": [
        "def check_file_name(file_name) : \n",
        "    if 'virus' in file_name : \n",
        "        return True\n",
        "    elif 'bacteria' in file_name : \n",
        "        return True\n",
        "    else: \n",
        "        print(file_name)\n",
        "        return False"
      ],
      "execution_count": null,
      "outputs": []
    },
    {
      "cell_type": "code",
      "metadata": {
        "id": "hU-UyTV1XeKl"
      },
      "source": [
        "metadata[metadata['Label'] == 'Pnemonia']['X_ray_image_name'].apply(lambda x : check_file_name(x)).unique()"
      ],
      "execution_count": null,
      "outputs": []
    },
    {
      "cell_type": "code",
      "metadata": {
        "id": "q1k2U_vGXfFF"
      },
      "source": [
        "metadata['Label_2_Virus_category'].unique()"
      ],
      "execution_count": null,
      "outputs": []
    },
    {
      "cell_type": "code",
      "metadata": {
        "id": "w7AiQMcSXgMt"
      },
      "source": [
        "train_set_dir = './Coronahack-Chest-XRay-Dataset/Coronahack-Chest-XRay-Dataset/train'\n",
        "test_set_dir = './Coronahack-Chest-XRay-Dataset/Coronahack-Chest-XRay-Dataset/test'"
      ],
      "execution_count": null,
      "outputs": []
    },
    {
      "cell_type": "code",
      "metadata": {
        "id": "Q_YfLb5dXjVN"
      },
      "source": [
        "train_df = pd.DataFrame(listdir(train_set_dir), columns=['path'])\n",
        "train_df.head()"
      ],
      "execution_count": null,
      "outputs": []
    },
    {
      "cell_type": "code",
      "metadata": {
        "id": "c0kxi7F0XkeV"
      },
      "source": [
        "train_df = pd.merge(train_df, metadata, left_on='path', right_on='X_ray_image_name', )"
      ],
      "execution_count": null,
      "outputs": []
    },
    {
      "cell_type": "code",
      "metadata": {
        "id": "JTw_8OgsXnSl"
      },
      "source": [
        "train_df['path'] = train_df['path'].apply(lambda x : f'{train_set_dir}/{x}')"
      ],
      "execution_count": null,
      "outputs": []
    },
    {
      "cell_type": "code",
      "metadata": {
        "id": "b-3bzKvwXuv8"
      },
      "source": [
        "train_df.head()"
      ],
      "execution_count": null,
      "outputs": []
    },
    {
      "cell_type": "code",
      "metadata": {
        "id": "cdeQqC2eXvak"
      },
      "source": [
        "train_df.shape"
      ],
      "execution_count": null,
      "outputs": []
    },
    {
      "cell_type": "code",
      "metadata": {
        "id": "zgc594S8XwQs"
      },
      "source": [
        "test_df = pd.DataFrame(listdir(test_set_dir), columns=['path'])\n",
        "test_df.head()"
      ],
      "execution_count": null,
      "outputs": []
    },
    {
      "cell_type": "code",
      "metadata": {
        "id": "A0IlQbi6XxNc"
      },
      "source": [
        "test_df = pd.merge(test_df, metadata, left_on='path', right_on='X_ray_image_name', )"
      ],
      "execution_count": null,
      "outputs": []
    },
    {
      "cell_type": "code",
      "metadata": {
        "id": "uXMnbW4FXyEE"
      },
      "source": [
        "test_df['path'] = test_df['path'].apply(lambda x : f'{test_set_dir}/{x}')\n",
        "test_df.head()"
      ],
      "execution_count": null,
      "outputs": []
    },
    {
      "cell_type": "code",
      "metadata": {
        "id": "K3b9sPAkXy-M"
      },
      "source": [
        "test_df.shape"
      ],
      "execution_count": null,
      "outputs": []
    },
    {
      "cell_type": "code",
      "metadata": {
        "id": "KUlZ_GleXz38"
      },
      "source": [
        "train_df['path'].unique()"
      ],
      "execution_count": null,
      "outputs": []
    },
    {
      "cell_type": "code",
      "metadata": {
        "id": "ed9d3lUEX0q8"
      },
      "source": [
        "import matplotlib.pyplot as pltb\n",
        "import matplotlib.image as mpimg"
      ],
      "execution_count": null,
      "outputs": []
    },
    {
      "cell_type": "code",
      "metadata": {
        "id": "rS7j1OoiX3dE"
      },
      "source": [
        "image_from_path = mpimg.imread(train_df['path'][0])\n",
        "image_from_path.shape"
      ],
      "execution_count": null,
      "outputs": []
    },
    {
      "cell_type": "code",
      "metadata": {
        "id": "3oHbVXr7X4Ic"
      },
      "source": [
        "train_df['path'][train_df['Label'] == 'Normal']"
      ],
      "execution_count": null,
      "outputs": []
    },
    {
      "cell_type": "code",
      "metadata": {
        "id": "7fHKZMqhX400"
      },
      "source": [
        "plt.figure(figsize=(12,12))\n",
        "for i in range(16) : \n",
        "    plt.subplot(4,4, i+1)\n",
        "    if i < 8 : \n",
        "        image_from_path = mpimg.imread(train_df['path'][train_df['Label'] == 'Normal'].iloc[i])\n",
        "        plt.title('Normal')\n",
        "        plt.imshow(image_from_path, cmap='bone')\n",
        "    else : \n",
        "        image_from_path = mpimg.imread(train_df['path'][train_df['Label'] == 'Pnemonia'].iloc[i])\n",
        "        plt.title('Pnemonia')\n",
        "        plt.imshow(image_from_path, cmap='bone')\n",
        "plt.show()"
      ],
      "execution_count": null,
      "outputs": []
    },
    {
      "cell_type": "code",
      "metadata": {
        "id": "SkKp19kjX6H0"
      },
      "source": [
        "import seaborn as sns\n",
        "sns.countplot(train_df['Label'])\n",
        "plt.show()"
      ],
      "execution_count": null,
      "outputs": []
    },
    {
      "cell_type": "code",
      "metadata": {
        "id": "hnjh_LfnX8E9"
      },
      "source": [
        "from sklearn.preprocessing import LabelEncoder"
      ],
      "execution_count": null,
      "outputs": []
    },
    {
      "cell_type": "code",
      "metadata": {
        "id": "yn_yaAf8X86N"
      },
      "source": [
        "label_encoder = LabelEncoder()"
      ],
      "execution_count": null,
      "outputs": []
    },
    {
      "cell_type": "code",
      "metadata": {
        "id": "AwwFIZaEX-jV"
      },
      "source": [
        "label_encoder.fit(train_df['Label'])\n",
        "train_df['Label'] = label_encoder.transform(train_df['Label'])\n",
        "train_df['Label'].head()"
      ],
      "execution_count": null,
      "outputs": []
    },
    {
      "cell_type": "code",
      "metadata": {
        "id": "Ky9MY5m4X9nt"
      },
      "source": [
        "test_df['Label'] = label_encoder.fit_transform(test_df['Label'])\n",
        "test_df['Label'].head()"
      ],
      "execution_count": null,
      "outputs": []
    },
    {
      "cell_type": "code",
      "metadata": {
        "id": "1C1SQecpX_nF"
      },
      "source": [
        "from tensorflow.keras.preprocessing.image import ImageDataGenerator"
      ],
      "execution_count": null,
      "outputs": []
    },
    {
      "cell_type": "code",
      "metadata": {
        "id": "YRay9_nBYAfc"
      },
      "source": [
        "generator = ImageDataGenerator(validation_split=0.2)"
      ],
      "execution_count": null,
      "outputs": []
    },
    {
      "cell_type": "code",
      "metadata": {
        "id": "Qapc4IIJYBS0"
      },
      "source": [
        "train_df.iloc[0]"
      ],
      "execution_count": null,
      "outputs": []
    },
    {
      "cell_type": "code",
      "metadata": {
        "id": "pOQmW0KcYCYc"
      },
      "source": [
        "train_df['Label'] = train_df['Label'].astype('string')\n",
        "test_df['Label'] = test_df['Label'].astype('string')"
      ],
      "execution_count": null,
      "outputs": []
    },
    {
      "cell_type": "code",
      "metadata": {
        "id": "8SoUq8ERYFJM"
      },
      "source": [
        "train_images = generator.flow_from_dataframe(dataframe=train_df, x_col='path', y_col='Label',class_mode='binary', subset='training', target_size=(128, 128), color_mode='grayscale')\n",
        "validation_images = generator.flow_from_dataframe(dataframe=train_df, x_col='path', y_col='Label',class_mode='binary', subset='validation', target_size=(128, 128), color_mode='grayscale')"
      ],
      "execution_count": null,
      "outputs": []
    },
    {
      "cell_type": "code",
      "metadata": {
        "id": "JJX25juvYH38"
      },
      "source": [
        "test_images = generator.flow_from_dataframe(dataframe=test_df, x_col='path', y_col='Label',class_mode='binary', target_size=(128, 128), color_mode='grayscale')"
      ],
      "execution_count": null,
      "outputs": []
    },
    {
      "cell_type": "code",
      "metadata": {
        "id": "b0Xk_kDVYJIU"
      },
      "source": [
        "model = Sequential()\n",
        "model.add(Conv2D(32, (3, 3), activation='relu', input_shape=(128, 128, 1)))\n",
        "model.add(MaxPooling2D(pool_size=(2, 2)))\n",
        "\n",
        "model.add(Conv2D(32, (3, 3), activation='relu',))\n",
        "model.add(MaxPooling2D(pool_size=(2, 2)))\n",
        "\n",
        "\n",
        "model.add(Conv2D(64, (3,3), activation='relu',))\n",
        "model.add(Conv2D(250, (3,3), activation='relu',))\n",
        "model.add(MaxPooling2D(pool_size=(2, 2)))\n",
        "\n",
        "\n",
        "model.add(Conv2D(256 ,(2,2), activation='relu',))\n",
        "model.add(MaxPool2D(2,2))\n",
        "    \n",
        "model.add(Flatten())\n",
        "model.add(Dense(32, activation='relu',))\n",
        "model.add(Dropout(0.25))\n",
        "model.add(Dense(1, activation='sigmoid'))"
      ],
      "execution_count": null,
      "outputs": []
    },
    {
      "cell_type": "code",
      "metadata": {
        "id": "csY7Iam1YK4M"
      },
      "source": [
        "model.compile(loss='binary_crossentropy', optimizer='adam', metrics=['accuracy'])"
      ],
      "execution_count": null,
      "outputs": []
    },
    {
      "cell_type": "code",
      "metadata": {
        "id": "AbtvrGJwYMRE"
      },
      "source": [
        "model.summary()"
      ],
      "execution_count": null,
      "outputs": []
    },
    {
      "cell_type": "code",
      "metadata": {
        "id": "JpuBY1mMYMzE"
      },
      "source": [
        "from tensorflow.keras.callbacks import EarlyStopping, ModelCheckpoint\n",
        "early_stop = EarlyStopping(monitor='val_loss',patience=3)"
      ],
      "execution_count": null,
      "outputs": []
    },
    {
      "cell_type": "code",
      "metadata": {
        "id": "jlVZT_yBYOFk"
      },
      "source": [
        "model_checkpoint = ModelCheckpoint('first_trial.h5', monitor='val_loss', save_best_only=True)\n",
        "history = model.fit(train_images,\n",
        "                    epochs=30,\n",
        "                    validation_data=validation_images, \n",
        "                    callbacks=[early_stop, model_checkpoint]\n",
        "                   )"
      ],
      "execution_count": null,
      "outputs": []
    }
  ]
}