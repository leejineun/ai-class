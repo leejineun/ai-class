{
  "nbformat": 4,
  "nbformat_minor": 5,
  "metadata": {
    "kernelspec": {
      "display_name": "Python 3",
      "language": "python",
      "name": "python3"
    },
    "language_info": {
      "codemirror_mode": {
        "name": "ipython",
        "version": 3
      },
      "file_extension": ".py",
      "mimetype": "text/x-python",
      "name": "python",
      "nbconvert_exporter": "python",
      "pygments_lexer": "ipython3",
      "version": "3.8.11"
    },
    "colab": {
      "name": "crawler.ipynb",
      "provenance": [],
      "include_colab_link": true
    }
  },
  "cells": [
    {
      "cell_type": "markdown",
      "metadata": {
        "id": "view-in-github",
        "colab_type": "text"
      },
      "source": [
        "<a href=\"https://colab.research.google.com/github/leejineun/ai-class/blob/main/crawler.ipynb\" target=\"_parent\"><img src=\"https://colab.research.google.com/assets/colab-badge.svg\" alt=\"Open In Colab\"/></a>"
      ]
    },
    {
      "cell_type": "code",
      "metadata": {
        "id": "22939b08"
      },
      "source": [
        "# !conda install selenium -y"
      ],
      "id": "22939b08",
      "execution_count": null,
      "outputs": []
    },
    {
      "cell_type": "code",
      "metadata": {
        "id": "fa3a39af"
      },
      "source": [
        "# !conda install tqdm -y"
      ],
      "id": "fa3a39af",
      "execution_count": null,
      "outputs": []
    },
    {
      "cell_type": "code",
      "metadata": {
        "id": "60b7dd21"
      },
      "source": [
        "# !conda install matplotlib -y"
      ],
      "id": "60b7dd21",
      "execution_count": null,
      "outputs": []
    },
    {
      "cell_type": "code",
      "metadata": {
        "id": "ac64455a"
      },
      "source": [
        "# www.google.com/robots.txt"
      ],
      "id": "ac64455a",
      "execution_count": null,
      "outputs": []
    },
    {
      "cell_type": "code",
      "metadata": {
        "id": "d8a87c1a"
      },
      "source": [
        "# !conda install bs4 -y"
      ],
      "id": "d8a87c1a",
      "execution_count": null,
      "outputs": []
    },
    {
      "cell_type": "code",
      "metadata": {
        "id": "cae5d397"
      },
      "source": [
        "# !conda install requests -y"
      ],
      "id": "cae5d397",
      "execution_count": null,
      "outputs": []
    },
    {
      "cell_type": "code",
      "metadata": {
        "id": "f835d7d7"
      },
      "source": [
        "# headers = {'User-Agent': 'Mozilla/5.0 (Macintosh; Intel Mac OS X 10_10_1) AppleWebKit/537.36 (KHTML, like Gecko) Chrome/39.0.2171.95 Safari/537.36'}"
      ],
      "id": "f835d7d7",
      "execution_count": null,
      "outputs": []
    },
    {
      "cell_type": "code",
      "metadata": {
        "id": "a077fcf9"
      },
      "source": [
        "from selenium import webdriver\n",
        "from selenium.webdriver.common.keys import Keys"
      ],
      "id": "a077fcf9",
      "execution_count": null,
      "outputs": []
    },
    {
      "cell_type": "code",
      "metadata": {
        "id": "fb9fd648"
      },
      "source": [
        "import urllib.request"
      ],
      "id": "fb9fd648",
      "execution_count": null,
      "outputs": []
    },
    {
      "cell_type": "code",
      "metadata": {
        "id": "5d21e39d"
      },
      "source": [
        "import time"
      ],
      "id": "5d21e39d",
      "execution_count": null,
      "outputs": []
    },
    {
      "cell_type": "code",
      "metadata": {
        "id": "5646cd07"
      },
      "source": [
        "from tqdm import tqdm\n",
        "import base64\n",
        "import io\n",
        "import matplotlib.pyplot as plt\n",
        "import matplotlib.image as mpimg"
      ],
      "id": "5646cd07",
      "execution_count": null,
      "outputs": []
    },
    {
      "cell_type": "code",
      "metadata": {
        "id": "5db13625"
      },
      "source": [
        "driver = webdriver.Chrome('./chromedriver.exe')"
      ],
      "id": "5db13625",
      "execution_count": null,
      "outputs": []
    },
    {
      "cell_type": "code",
      "metadata": {
        "id": "fcf405c5"
      },
      "source": [
        "request_url = 'https://google.com'\n",
        "driver.get(request_url)"
      ],
      "id": "fcf405c5",
      "execution_count": null,
      "outputs": []
    },
    {
      "cell_type": "code",
      "metadata": {
        "id": "f30b830c"
      },
      "source": [
        "# 검색창 css_selector\n",
        "search_box_by_selector = driver.find_element_by_css_selector('body > div.L3eUgb > div.o3j99.ikrT4e.om7nvf > form > div:nth-child(1) > div.A8SBwf > div.RNNXgb > div > div.a4bIc > input')\n",
        "search_box_by_selector"
      ],
      "id": "f30b830c",
      "execution_count": null,
      "outputs": []
    },
    {
      "cell_type": "code",
      "metadata": {
        "id": "9e91a8c0"
      },
      "source": [
        "search_box_by_xpath = driver.find_element_by_xpath('/html/body/div[1]/div[3]/form/div[1]/div[1]/div[1]/div/div[2]/input')\n",
        "search_box_by_xpath"
      ],
      "id": "9e91a8c0",
      "execution_count": null,
      "outputs": []
    },
    {
      "cell_type": "code",
      "metadata": {
        "id": "bf21bf35"
      },
      "source": [
        "search_box_by_selector.send_keys('광안리')\n",
        "search_box_by_selector.send_keys(Keys.RETURN)"
      ],
      "id": "bf21bf35",
      "execution_count": null,
      "outputs": []
    },
    {
      "cell_type": "code",
      "metadata": {
        "id": "2e3469bf"
      },
      "source": [
        "image_button = driver.find_element_by_css_selector('#hdtb-msb > div:nth-child(1) > div > div:nth-child(3) > a')\n",
        "image_button"
      ],
      "id": "2e3469bf",
      "execution_count": null,
      "outputs": []
    },
    {
      "cell_type": "code",
      "metadata": {
        "id": "c0205544"
      },
      "source": [
        "image_button.click()"
      ],
      "id": "c0205544",
      "execution_count": null,
      "outputs": []
    },
    {
      "cell_type": "code",
      "metadata": {
        "id": "0534deff"
      },
      "source": [
        "first_image = driver.find_element_by_css_selector('#islrg > div.islrc > div:nth-child(1) > a.wXeWr.islib.nfEiy > div.bRMDJf.islir > img')\n",
        "first_image"
      ],
      "id": "0534deff",
      "execution_count": null,
      "outputs": []
    },
    {
      "cell_type": "code",
      "metadata": {
        "collapsed": true,
        "id": "4bf56217"
      },
      "source": [
        "first_image.get_attribute('src')"
      ],
      "id": "4bf56217",
      "execution_count": null,
      "outputs": []
    },
    {
      "cell_type": "code",
      "metadata": {
        "id": "5ed81b6c"
      },
      "source": [
        "m = re.compile('\\w*\\:\\w*/(\\w*);\\w*,(\\w.*)')\n",
        "\n",
        "img_src = m.search(first_image.get_attribute('src')).group(2)\n",
        "img_type = m.search(first_image.get_attribute('src')).group(1)\n",
        "\n",
        "i = base64.b64decode(img_src)\n",
        "i = io.BytesIO(i)\n",
        "i = mpimg.imread(i, format=img_type)\n",
        "\n",
        "plt.imshow(i, interpolation='nearest')\n",
        "plt.show()"
      ],
      "id": "5ed81b6c",
      "execution_count": null,
      "outputs": []
    },
    {
      "cell_type": "code",
      "metadata": {
        "id": "4392ae13"
      },
      "source": [
        "first_image.get_attribute('class')"
      ],
      "id": "4392ae13",
      "execution_count": null,
      "outputs": []
    },
    {
      "cell_type": "code",
      "metadata": {
        "id": "693b9862"
      },
      "source": [
        "images = driver.find_elements_by_tag_name('img')"
      ],
      "id": "693b9862",
      "execution_count": null,
      "outputs": []
    },
    {
      "cell_type": "code",
      "metadata": {
        "id": "15377047"
      },
      "source": [
        "len(images)"
      ],
      "id": "15377047",
      "execution_count": null,
      "outputs": []
    },
    {
      "cell_type": "code",
      "metadata": {
        "collapsed": true,
        "id": "94b8d676"
      },
      "source": [
        "for image in images : \n",
        "    print(image.get_attribute('class'))"
      ],
      "id": "94b8d676",
      "execution_count": null,
      "outputs": []
    },
    {
      "cell_type": "code",
      "metadata": {
        "id": "c9b7f9f2"
      },
      "source": [
        "images = list(dict.fromkeys(images))\n",
        "images"
      ],
      "id": "c9b7f9f2",
      "execution_count": null,
      "outputs": []
    },
    {
      "cell_type": "code",
      "metadata": {
        "id": "854f4bd6"
      },
      "source": [
        "# 이미지 다운로드\n",
        "for i, img in enumerate(images) : \n",
        "    urllib.request.urlretrieve(img.get_attribute('src'),'./images/광안리_{}.jpg'.format(i))"
      ],
      "id": "854f4bd6",
      "execution_count": null,
      "outputs": []
    },
    {
      "cell_type": "code",
      "metadata": {
        "id": "55f2f6fc"
      },
      "source": [
        "last_height = driver.execute_script(\"return document.body.scrollHeight\")\n",
        "\n",
        "while True : \n",
        "    try : \n",
        "        load_button = driver.find_element_by_css_selector('#islmp > div > div:nth-child(2) > div > div.gBPM8 > div.qvfT1 > div.YstHxe > input')\n",
        "        load_button.click()\n",
        "        print('load_button_click')\n",
        "    except Exception : \n",
        "        driver.execute_script(\"window.scrollTo(0, document.body.scrollHeight);\")\n",
        "        time.sleep(2)\n",
        "        new_height = driver.execute_script(\"return document.body.scrollHeight\")\n",
        "        print(new_height, last_height)\n",
        "        if new_height == last_height:\n",
        "            print('saving imgs')\n",
        "            images = driver.find_elements_by_tag_name('img')\n",
        "            print(len(images))\n",
        "            break\n",
        "        last_height = new_height"
      ],
      "id": "55f2f6fc",
      "execution_count": null,
      "outputs": []
    },
    {
      "cell_type": "code",
      "metadata": {
        "scrolled": false,
        "id": "df749361"
      },
      "source": [
        "for i, img in enumerate(tqdm(images)) : \n",
        "    try : \n",
        "        urllib.request.urlretrieve(img.get_attribute('src'),'광안리_{}.jpg'.format(i))\n",
        "    except Exception as e : \n",
        "        print(e)\n",
        "        continue"
      ],
      "id": "df749361",
      "execution_count": null,
      "outputs": []
    },
    {
      "cell_type": "markdown",
      "metadata": {
        "id": "b33dcb56"
      },
      "source": [
        "### 2번 방법"
      ],
      "id": "b33dcb56"
    },
    {
      "cell_type": "code",
      "metadata": {
        "id": "86534271"
      },
      "source": [
        "driver = webdriver.Chrome('./chromedriver.exe')"
      ],
      "id": "86534271",
      "execution_count": null,
      "outputs": []
    },
    {
      "cell_type": "code",
      "metadata": {
        "id": "a768a458"
      },
      "source": [
        "keyword = '토트넘'\n",
        "driver.get('https://www.google.com/search?q={keyword}&hl=ko&source=lnms&tbm=isch&sa=X&ved=2ahUKEwjNsYmY38TyAhULet4KHV34CbAQ_AUoAnoECAEQBA&cshid=1629639224796153&biw=1920&bih=925'.format(keyword=keyword))"
      ],
      "id": "a768a458",
      "execution_count": null,
      "outputs": []
    },
    {
      "cell_type": "code",
      "metadata": {
        "id": "9694fa97"
      },
      "source": [
        "first_image = driver.find_element_by_css_selector('#islrg > div.islrc > div:nth-child(1) > a.wXeWr.islib.nfEiy > div.bRMDJf.islir > img')\n",
        "first_image"
      ],
      "id": "9694fa97",
      "execution_count": null,
      "outputs": []
    },
    {
      "cell_type": "code",
      "metadata": {
        "id": "19be4765"
      },
      "source": [
        "first_image.get_attribute('src')[:30]"
      ],
      "id": "19be4765",
      "execution_count": null,
      "outputs": []
    },
    {
      "cell_type": "code",
      "metadata": {
        "id": "8ab11193"
      },
      "source": [
        "test_text = 'data:image/png;base64,iVBORw0K==dfohjsiodjf==sdiofj'"
      ],
      "id": "8ab11193",
      "execution_count": null,
      "outputs": []
    },
    {
      "cell_type": "code",
      "metadata": {
        "id": "3389ba89"
      },
      "source": [
        "import re"
      ],
      "id": "3389ba89",
      "execution_count": null,
      "outputs": []
    },
    {
      "cell_type": "code",
      "metadata": {
        "id": "433e3675"
      },
      "source": [
        "m = re.compile('\\w*\\:\\w*/(\\w*);\\w*,(\\w.*)')\n",
        "m.search(test_text).group(1)"
      ],
      "id": "433e3675",
      "execution_count": null,
      "outputs": []
    },
    {
      "cell_type": "code",
      "metadata": {
        "id": "d78178d6"
      },
      "source": [
        "m = re.compile('\\w*\\:\\w*/(\\w*);\\w*,(\\w.*)')\n",
        "\n",
        "img_src = m.search(first_image.get_attribute('src')).group(2)\n",
        "img_type = m.search(first_image.get_attribute('src')).group(1)\n",
        "\n",
        "i = base64.b64decode(img_src)\n",
        "i = io.BytesIO(i)\n",
        "i = mpimg.imread(i, format=img_type)\n",
        "\n",
        "plt.imshow(i, interpolation='nearest')\n",
        "plt.show()"
      ],
      "id": "d78178d6",
      "execution_count": null,
      "outputs": []
    },
    {
      "cell_type": "code",
      "metadata": {
        "id": "fe3e13d7"
      },
      "source": [
        "for i, img in enumerate(tqdm(images)) : \n",
        "    try : \n",
        "        urllib.request.urlretrieve(img.get_attribute('src'),'토트넘_{}.jpg'.format(i))\n",
        "    except Exception as e : \n",
        "        print(e)\n",
        "        continue"
      ],
      "id": "fe3e13d7",
      "execution_count": null,
      "outputs": []
    },
    {
      "cell_type": "markdown",
      "metadata": {
        "id": "25eb9941"
      },
      "source": [
        "### 네이버에서 이미지 크롤링"
      ],
      "id": "25eb9941"
    },
    {
      "cell_type": "code",
      "metadata": {
        "id": "cd02dcf3"
      },
      "source": [
        "url = 'https://search.naver.com/search.naver?where=image&sm=tab_jum&query=%ED%86%A0%ED%8A%B8%EB%84%98'\n",
        "\n",
        "driver.get(url)"
      ],
      "id": "cd02dcf3",
      "execution_count": null,
      "outputs": []
    },
    {
      "cell_type": "code",
      "metadata": {
        "id": "e686b97c"
      },
      "source": [
        "last_height = driver.execute_script(\"return document.body.scrollHeight\")\n",
        "\n",
        "while True : \n",
        "#         load_button = driver.find_element_by_css_selector('#islmp > div > div:nth-child(2) > div > div.gBPM8 > div.qvfT1 > div.YstHxe > input')\n",
        "#         load_button.click()\n",
        "#         print('load_button_click')\n",
        "    driver.execute_script(\"window.scrollTo(0, document.body.scrollHeight);\")\n",
        "    time.sleep(2)\n",
        "    new_height = driver.execute_script(\"return document.body.scrollHeight\")\n",
        "    print(new_height, last_height)\n",
        "    if new_height == last_height:\n",
        "        print('saving imgs')\n",
        "        images = driver.find_elements_by_class_name('_image')\n",
        "        print(len(images))\n",
        "        break\n",
        "    last_height = new_height"
      ],
      "id": "e686b97c",
      "execution_count": null,
      "outputs": []
    },
    {
      "cell_type": "code",
      "metadata": {
        "id": "0b8ffffe"
      },
      "source": [
        "len(images)"
      ],
      "id": "0b8ffffe",
      "execution_count": null,
      "outputs": []
    },
    {
      "cell_type": "code",
      "metadata": {
        "id": "caece677"
      },
      "source": [
        "for i, img in enumerate(tqdm(images[:10])) : \n",
        "    try : \n",
        "        urllib.request.urlretrieve(img.get_attribute('src'),'./images/NAVER_토트넘_{}.jpg'.format(i))\n",
        "    except Exception as e : \n",
        "        print(e)\n",
        "        continue"
      ],
      "id": "caece677",
      "execution_count": null,
      "outputs": []
    },
    {
      "cell_type": "markdown",
      "metadata": {
        "id": "a063821c"
      },
      "source": [
        "### 뉴스 크롤링"
      ],
      "id": "a063821c"
    },
    {
      "cell_type": "code",
      "metadata": {
        "id": "db535669"
      },
      "source": [
        "news_url = 'https://news.naver.com/main/list.naver?mode=LS2D&sid2=258&sid1=101&mid=shm&date=20210822&page=1'\n",
        "driver.get(news_url)"
      ],
      "id": "db535669",
      "execution_count": null,
      "outputs": []
    },
    {
      "cell_type": "code",
      "metadata": {
        "id": "ad90037f"
      },
      "source": [
        "driver.find_element_by_css_selector('#main_content > div.list_body.newsflash_body > ul.type06_headline > li:nth-child(3) > dl > dt:nth-child(2) > a').text"
      ],
      "id": "ad90037f",
      "execution_count": null,
      "outputs": []
    },
    {
      "cell_type": "code",
      "metadata": {
        "collapsed": true,
        "id": "fcbeefe7"
      },
      "source": [
        "driver.page_source"
      ],
      "id": "fcbeefe7",
      "execution_count": null,
      "outputs": []
    },
    {
      "cell_type": "code",
      "metadata": {
        "id": "b1f2c896"
      },
      "source": [
        "html = driver.page_source\n",
        "soup = BeautifulSoup(html, 'html')"
      ],
      "id": "b1f2c896",
      "execution_count": null,
      "outputs": []
    },
    {
      "cell_type": "code",
      "metadata": {
        "id": "48e3ce2d"
      },
      "source": [
        "titles = []\n",
        "for dls in soup.findAll('dl') : \n",
        "    try : \n",
        "        titles.append(dls.img.get('alt').strip())        \n",
        "        if len(titles) == 20 : \n",
        "            break\n",
        "    except AttributeError: \n",
        "        titles.append(dls.a.contents[0].strip())\n",
        "        if len(titles) == 20 : \n",
        "            break\n",
        "    except Exception as e : \n",
        "        break"
      ],
      "id": "48e3ce2d",
      "execution_count": null,
      "outputs": []
    },
    {
      "cell_type": "code",
      "metadata": {
        "id": "a9330b69"
      },
      "source": [
        "titles"
      ],
      "id": "a9330b69",
      "execution_count": null,
      "outputs": []
    },
    {
      "cell_type": "code",
      "metadata": {
        "id": "5c34122d"
      },
      "source": [
        "date = 20210822\n",
        "i = 1\n",
        "whole_titles = []\n",
        "while True : \n",
        "    news_url = 'https://news.naver.com/main/list.naver?mode=LS2D&sid2=258&sid1=101&mid=shm&date={date}&page={index}'.format(date=date, index=i)\n",
        "    driver.get(news_url)\n",
        "    time.sleep(1)\n",
        "    html = driver.page_source\n",
        "    soup = BeautifulSoup(html, 'html')\n",
        "    time.sleep(0.5)\n",
        "    titles = []\n",
        "    for dls in soup.findAll('dl') : \n",
        "        try : \n",
        "            titles.append(dls.img.get('alt').strip())        \n",
        "            if len(titles) == 20 : \n",
        "                whole_titles.extend(titles)\n",
        "                i += 1\n",
        "                break\n",
        "        except AttributeError: \n",
        "            titles.append(dls.a.contents[0].strip())\n",
        "            if len(titles) == 20 : \n",
        "                whole_titles.extend(titles)\n",
        "                i += 1\n",
        "                break\n",
        "        except Exception as e : \n",
        "            i += 1\n",
        "            break\n",
        "    if i == 5 : \n",
        "        break"
      ],
      "id": "5c34122d",
      "execution_count": null,
      "outputs": []
    },
    {
      "cell_type": "code",
      "metadata": {
        "collapsed": true,
        "id": "9f1e4fcb"
      },
      "source": [
        "whole_titles"
      ],
      "id": "9f1e4fcb",
      "execution_count": null,
      "outputs": []
    },
    {
      "cell_type": "code",
      "metadata": {
        "id": "6470a2b5"
      },
      "source": [
        "date = 20210822\n",
        "i = 1\n",
        "whole_titles = []\n",
        "while True : \n",
        "    news_url = 'https://news.naver.com/main/list.naver?mode=LS2D&sid2=258&sid1=101&mid=shm&date={date}&page={index}'.format(date=date, index=i)\n",
        "    driver.get(news_url)\n",
        "    time.sleep(1)\n",
        "    html = driver.page_source\n",
        "    soup = BeautifulSoup(html, 'html')\n",
        "    time.sleep(0.5)\n",
        "    titles = []\n",
        "    for j, dls in enumerate(soup.findAll('dl')) : \n",
        "        try : \n",
        "            urllib.request.urlretrieve(dls.img['src'],'test_{}.jpg'.format(j))\n",
        "        except AttributeError: \n",
        "            print('attr')\n",
        "            continue\n",
        "        except TypeError : \n",
        "            continue\n",
        "        except Exception : \n",
        "            break\n",
        "    if i == 1 : \n",
        "        break"
      ],
      "id": "6470a2b5",
      "execution_count": null,
      "outputs": []
    }
  ]
}