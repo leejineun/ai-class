{
  "nbformat": 4,
  "nbformat_minor": 0,
  "metadata": {
    "colab": {
      "name": "8_중간복습-수업용.ipynb",
      "provenance": [],
      "collapsed_sections": [],
      "authorship_tag": "ABX9TyM0O6+hPimqbZ1tdf8Gjtqs",
      "include_colab_link": true
    },
    "kernelspec": {
      "name": "python3",
      "display_name": "Python 3"
    },
    "language_info": {
      "name": "python"
    },
    "accelerator": "GPU"
  },
  "cells": [
    {
      "cell_type": "markdown",
      "metadata": {
        "id": "view-in-github",
        "colab_type": "text"
      },
      "source": [
        "<a href=\"https://colab.research.google.com/github/leejineun/ai-class/blob/main/8_%EC%A4%91%EA%B0%84%EB%B3%B5%EC%8A%B5_%EC%88%98%EC%97%85%EC%9A%A9.ipynb\" target=\"_parent\"><img src=\"https://colab.research.google.com/assets/colab-badge.svg\" alt=\"Open In Colab\"/></a>"
      ]
    },
    {
      "cell_type": "markdown",
      "metadata": {
        "id": "IrrHBapIBAfe"
      },
      "source": [
        "# CNN (Convolution Neural Network)\n",
        "- 이미지의 공간정보를 보존하여 학습하는 인공 신경망\n",
        "\n",
        "### 어떻게 공간 정보를 보존하나?\n",
        "- 이미지를 펼치는 것이 아니라, 픽셀 위치를 유지한 상태에서 연산\n",
        "\n",
        "### 주요 용어 정리\n",
        "\n",
        "**합성곱** \n",
        "\n",
        "``keras.layers.Conv2D``\n",
        "- 필터가 이미지를 훑으면서, 겹치는 부분의 원소를 곱합 후, 더하여 출력하는 과정\n",
        "- 합성곱 연산을 통해 나온 결과를 **특성 맵(feature map)**이라 함\n",
        "\n",
        "    \n",
        "**필터(커널)**\n",
        "\n",
        "``keras.layers.Conv2D(filters=32, kernel_size=(3,3))``\n",
        "- 이미지에서 정보를 얻기 위해 곱해지는 것\n",
        "- 주로 3x3, 5x5 필터를 사용하며, 비대칭 모양도 가능하다.\n",
        "\n",
        "**스트라이드**\n",
        "\n",
        "``keras.layers.Conv2D(strides=(1,1))``\n",
        "- 필터가 이미지를 몇 칸씩 훑을 것인지 정한 값\n",
        "- 출력되는 이미지 크기에 영향을 준다\n",
        "\n",
        "**채널**\n",
        "\n",
        "``(1, 32, 32, 1)``\n",
        "``(1, 32, 32, 3)``\n",
        "- 이미지의 색상을 표현하는 값 (gray : 1, color: 3)\n",
        "- 필터가 곱해질 경우, 채널의 수는 필터의 수와 같아진다.\n",
        "\n",
        "**패딩**\n",
        "\n",
        "``keras.layers.Conv2D(padding='same')``\n",
        "- 이미지의 모서리 부분의 학습을 위해 사용\n",
        "- 합성곱 이후에도 이미지의 크기를 유지하기 위해 사용\n",
        "\n",
        "**활성화 함수**\n",
        "\n",
        "``keras.layers.Activation()``\n",
        "- 출력값을 조절하기 위한 비선형 함수\n",
        "- 비선형성이 높을 수록 복잡한 패턴을 잘 파악\n",
        "- 은닉층에선 주로 relu, 출령측에서는 다중클래스 분류일 경우 ``softmax``, 이진 분류 ``sigmoid`` 사용\n",
        "\n",
        "**풀링**\n",
        "\n",
        "``MaxPool2D()``\n",
        "- 데이터의 크기를 줄여, 전체 파라미터 수를 줄여준다\n",
        "- 공간 변화를 덜 받게 한다\n",
        "- 채널 수에는 변화가 없다\n",
        "\n",
        "\n",
        "**드롭아웃**\n",
        "\n",
        "``keras.layers.Dropout()``\n",
        "- 일부 노드의 연결을 끊어서, 오버 피팅 방지 \n",
        "\n",
        "**Batch Normalization**\n",
        "\n",
        "``Conv2D()``\n",
        "\n",
        "``BatchNoramalization()``\n",
        "\n",
        "``Activation('relu')``\n",
        "\n",
        "- batch 형태로 넣다보면, 계층마다 데이터의 분포가 달라지는데, 이를 방지하기 위해 배치 정규화 시행\n",
        "- Conv Layer나 FC Layer와 활성화 함수 사이에 적용하는 것을 추천\n",
        "\n",
        "\n",
        "**완전연결계층(Fully Connected Layer)**\n",
        "\n",
        "``keras.layers.Dense()``\n",
        "- 한 층의 모든 뉴런이 다음 층의 모든 뉴런과 연결된 상태\n",
        "- 1차원 배열의 형태로 평탄화된 행렬을 통해 이미지 분류에 사용되는 계층\n",
        "\n",
        "\n",
        "**에폭**\n",
        "\n",
        "``model.fit(epochs=32)``\n",
        "- 전체 데이터가 한 번의 순전파와 한 번의 역전파를 하는 것\n",
        "- 너무 낮으면 underfitting, 너무 높으면 overfitting\n",
        "- earlyStopping을 통해 조절 가능\n",
        "\n",
        "\n",
        "**배치사이즈**\n",
        "\n",
        "``model.fit(batch_size=32)``\n",
        "- 한 번의 학습당 들어갈 데이터의 수\n",
        "\n",
        "\n",
        "**손실함수**\n",
        "\n",
        "``model.compile(loss='binary_crossentropy')``\n",
        "- 실제값과 예측값 차이를 계산하는 함수\n",
        "\n",
        "    - ``binary_crossentropy`` : 이진분류\n",
        "    - ``categorical_crossentropy`` : 원-핫 인코딩 된 multi class classification\n",
        "    - ``sparse_categorical_crossentropy`` : 라벨이 정수형태로 제공될 때\n",
        "    - MSE(Mean squared Error)\n",
        "    - MAE(Mean Absolute Error) 등\n",
        "\n",
        "\n",
        "**optimizer**\n",
        "- 가중치 최적화를 하는 알고리즘\n",
        "\n",
        "\n",
        "**전이학습**\n",
        "\n",
        "- 사전에 분석된 모델을 활용하여, 모델을 구축\n",
        "- 분류기만 바꾸면 특징 추출, 가중치도 재학습하면 파인튜닝\n"
      ]
    },
    {
      "cell_type": "markdown",
      "metadata": {
        "id": "v6X0sRhMBCqE"
      },
      "source": [
        "## 절차\n",
        "\n",
        "0. 목표 확인\n",
        "1. 이미지 로드\n",
        "2. 이미지 탐색 및 라벨 탐색 (이미지 수, 라벨 수, 이미지 특징 등 파악)\n",
        "3. 이미지 전처리 (정규화, 리사이징, reshape 등)\n",
        "4. 모델 작성 (전이 학습 등)\n",
        "5. 모델 학습\n",
        "6. 모델 평가 (accuarcy, precision, recall, f-1 score 등 확인)\n",
        "\n",
        "\n",
        "\n",
        "## 데이터 수집부터의 절차\n",
        "**0. 프로젝트 계획 수립 (SOW, 프로젝트 정의서 등)**\n",
        "\n",
        "**1. 데이터 준비**\n",
        "\n",
        "    - 데이터 정의서, 획득 계획서 등 작성\n",
        "    - 데이터 스토어 설계 (설계서 작성)\n",
        "    - 수집 및 데이터 확인 (데이터 점검 보고서 작성)\n",
        "\n",
        "**2. 데이터 분석**\n",
        "\n",
        "    - EDA, 전처리\n",
        "    - 모델링 (만족 수준까지 모델 튜닝 무한반복)\n",
        "    - 모델 알고리즘 설명서 작성\n",
        "    - 모델 평가 보고서 / 모델 검증 보고서 작성\n",
        "\n",
        "\n",
        "**3. 시스템 구현**\n",
        "\n",
        "    - 시스템화 필요시 시스템 구현\n",
        "    - 시스템 설계서 작성\n",
        "\n",
        "**4. 평가 및 배포**\n",
        "\n",
        "    - 추후 모델 발전 가능성 정리\n",
        "    - 프로젝트 최종 보고서 작성\n",
        "\n",
        "\n"
      ]
    },
    {
      "cell_type": "code",
      "metadata": {
        "id": "1vo6YZxQT9qg"
      },
      "source": [
        "### 연습문제"
      ],
      "execution_count": null,
      "outputs": []
    },
    {
      "cell_type": "code",
      "metadata": {
        "id": "F6nkrPnyXr0t"
      },
      "source": [
        "from tensorflow.keras.datasets import cifar100"
      ],
      "execution_count": null,
      "outputs": []
    },
    {
      "cell_type": "code",
      "metadata": {
        "id": "DIgB3Vb9XvvU"
      },
      "source": [
        "(X_train, y_train), (X_test, y_test) = cifar100.load_data()"
      ],
      "execution_count": null,
      "outputs": []
    },
    {
      "cell_type": "code",
      "metadata": {
        "id": "f_vqSTjdYRhz"
      },
      "source": [
        "print(X_train.shape, X_test.shape, y_train.shape, y_test.shape)"
      ],
      "execution_count": null,
      "outputs": []
    },
    {
      "cell_type": "code",
      "metadata": {
        "id": "bJxPXwceYrLp"
      },
      "source": [
        "y_train"
      ],
      "execution_count": null,
      "outputs": []
    },
    {
      "cell_type": "code",
      "metadata": {
        "id": "5q-hPdgiY-Zt"
      },
      "source": [
        "class_names = [\n",
        "'apple',\n",
        "'aquarium_fish',\n",
        "'baby',\n",
        "'bear',\n",
        "'beaver',\n",
        "'bed',\n",
        "'bee',\n",
        "'beetle',\n",
        "'bicycle',\n",
        "'bottle',\n",
        "'bowl',\n",
        "'boy',\n",
        "'bridge',\n",
        "'bus',\n",
        "'butterfly',\n",
        "'camel',\n",
        "'can',\n",
        "'castle',\n",
        "'caterpillar',\n",
        "'cattle',\n",
        "'chair',\n",
        "'chimpanzee',\n",
        "'clock',\n",
        "'cloud',\n",
        "'cockroach',\n",
        "'couch',\n",
        "'crab',\n",
        "'crocodile',\n",
        "'cup',\n",
        "'dinosaur',\n",
        "'dolphin',\n",
        "'elephant',\n",
        "'flatfish',\n",
        "'forest',\n",
        "'fox',\n",
        "'girl',\n",
        "'hamster',\n",
        "'house',\n",
        "'kangaroo',\n",
        "'computer_keyboard',\n",
        "'lamp',\n",
        "'lawn_mower',\n",
        "'leopard',\n",
        "'lion',\n",
        "'lizard',\n",
        "'lobster',\n",
        "'man',\n",
        "'maple_tree',\n",
        "'motorcycle',\n",
        "'mountain',\n",
        "'mouse',\n",
        "'mushroom',\n",
        "'oak_tree',\n",
        "'orange',\n",
        "'orchid',\n",
        "'otter',\n",
        "'palm_tree',\n",
        "'pear',\n",
        "'pickup_truck',\n",
        "'pine_tree',\n",
        "'plain',\n",
        "'plate',\n",
        "'poppy',\n",
        "'porcupine',\n",
        "'possum',\n",
        "'rabbit',\n",
        "'raccoon',\n",
        "'ray',\n",
        "'road',\n",
        "'rocket',\n",
        "'rose',\n",
        "'sea',\n",
        "'seal',\n",
        "'shark',\n",
        "'shrew',\n",
        "'skunk',\n",
        "'skyscraper',\n",
        "'snail',\n",
        "'snake',\n",
        "'spider',\n",
        "'squirrel',\n",
        "'streetcar',\n",
        "'sunflower',\n",
        "'sweet_pepper',\n",
        "'table',\n",
        "'tank',\n",
        "'telephone',\n",
        "'television',\n",
        "'tiger',\n",
        "'tractor',\n",
        "'train',\n",
        "'trout',\n",
        "'tulip',\n",
        "'turtle',\n",
        "'wardrobe',\n",
        "'whale',\n",
        "'willow_tree',\n",
        "'wolf',\n",
        "'woman',\n",
        "'worm',\n",
        "]"
      ],
      "execution_count": null,
      "outputs": []
    },
    {
      "cell_type": "code",
      "metadata": {
        "id": "ig3DECcDaPRL"
      },
      "source": [
        "len(class_names)"
      ],
      "execution_count": null,
      "outputs": []
    },
    {
      "cell_type": "code",
      "metadata": {
        "id": "hyR32rIAaQxe"
      },
      "source": [
        "# 10개의 이미지를 랜덤으로 뽑아서, shape을 출력해보세요"
      ],
      "execution_count": null,
      "outputs": []
    },
    {
      "cell_type": "code",
      "metadata": {
        "id": "6qvS_mFobK23"
      },
      "source": [
        "# 여러 장의 이미지를 하나의 표에 띄워보세요\n",
        "# 표를 띄웠다면 각 사진의 제목도 같이 표기해보세요"
      ],
      "execution_count": null,
      "outputs": []
    },
    {
      "cell_type": "code",
      "metadata": {
        "id": "u5fir6NSb3RM"
      },
      "source": [
        "# 라벨을 원핫 인코딩 하세요\n",
        "from tensorflow.keras.utils import to_categorical"
      ],
      "execution_count": null,
      "outputs": []
    },
    {
      "cell_type": "code",
      "metadata": {
        "id": "JiFp1J96cXmT"
      },
      "source": [
        ""
      ],
      "execution_count": null,
      "outputs": []
    },
    {
      "cell_type": "code",
      "metadata": {
        "id": "ZwQ8BCFDeuGm"
      },
      "source": [
        "# 이미지 정규화를 진행하세요\n"
      ],
      "execution_count": null,
      "outputs": []
    },
    {
      "cell_type": "code",
      "metadata": {
        "id": "ViZOobHJceOk"
      },
      "source": [
        "# 모델을 만들어보세요 epoch은 10\n",
        "from keras.layers import Dense, Conv2D, Flatten, Dropout, BatchNormalization, MaxPool2D, Activation, UpSampling2D, InputLayer\n",
        "from keras.models import Sequential"
      ],
      "execution_count": null,
      "outputs": []
    },
    {
      "cell_type": "code",
      "metadata": {
        "id": "8D6JcOBUtfBa"
      },
      "source": [
        ""
      ],
      "execution_count": null,
      "outputs": []
    },
    {
      "cell_type": "code",
      "metadata": {
        "id": "FV13Y0QDfQMj"
      },
      "source": [
        ""
      ],
      "execution_count": null,
      "outputs": []
    },
    {
      "cell_type": "code",
      "metadata": {
        "id": "NfY9vrlJfdPl"
      },
      "source": [
        ""
      ],
      "execution_count": null,
      "outputs": []
    },
    {
      "cell_type": "code",
      "metadata": {
        "id": "Mz7olDaquBi7"
      },
      "source": [
        "# 학습과정 그래프를 그려보세요"
      ],
      "execution_count": null,
      "outputs": []
    },
    {
      "cell_type": "code",
      "metadata": {
        "id": "TvdHtr-fOLKM"
      },
      "source": [
        "# classification_report를 만들어 보세요\n",
        "from sklearn.metrics import classfication_report"
      ],
      "execution_count": null,
      "outputs": []
    },
    {
      "cell_type": "code",
      "metadata": {
        "id": "w52h8HaHfsrU"
      },
      "source": [
        "# 전이학습\n",
        "from tensorflow.keras.applications import MobileNetV2"
      ],
      "execution_count": null,
      "outputs": []
    },
    {
      "cell_type": "code",
      "metadata": {
        "id": "0ga2hGEIvD9Z"
      },
      "source": [
        "# base model을 만들어보세요 (input_shape=128, 128, 3)"
      ],
      "execution_count": null,
      "outputs": []
    },
    {
      "cell_type": "code",
      "metadata": {
        "id": "gclwGCigyy6R"
      },
      "source": [
        "# base 모델이 재학습되지 않도록 설정하세요"
      ],
      "execution_count": null,
      "outputs": []
    },
    {
      "cell_type": "code",
      "metadata": {
        "id": "KS2DcgY5zLHN"
      },
      "source": [
        "# 다음 모델에 이어서 base 모델과 분류기를 새롭게 추가해보세요\n",
        "model = Sequential()\n",
        "model.add(InputLayer(input_shape=(32,32,3)))\n",
        "model.add(UpSampling2D())\n",
        "model.add(UpSampling2D())\n",
        "\n",
        "# 여기서부터 삽입"
      ],
      "execution_count": null,
      "outputs": []
    },
    {
      "cell_type": "code",
      "metadata": {
        "id": "xT_frTKXzWbV"
      },
      "source": [
        "# compile"
      ],
      "execution_count": null,
      "outputs": []
    },
    {
      "cell_type": "code",
      "metadata": {
        "id": "JNPvxVkh30Sr"
      },
      "source": [
        "# summary 확인"
      ],
      "execution_count": null,
      "outputs": []
    },
    {
      "cell_type": "code",
      "metadata": {
        "id": "k-omuUUszYb5"
      },
      "source": [
        "# fit"
      ],
      "execution_count": null,
      "outputs": []
    }
  ]
}