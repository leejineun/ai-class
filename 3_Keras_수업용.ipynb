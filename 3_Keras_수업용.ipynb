{
  "nbformat": 4,
  "nbformat_minor": 0,
  "metadata": {
    "colab": {
      "name": "3. Keras-수업용.ipynb",
      "provenance": [],
      "collapsed_sections": [],
      "authorship_tag": "ABX9TyNeAUJ8wfvi9ClOKVDWTvbi",
      "include_colab_link": true
    },
    "kernelspec": {
      "name": "python3",
      "display_name": "Python 3"
    },
    "language_info": {
      "name": "python"
    }
  },
  "cells": [
    {
      "cell_type": "markdown",
      "metadata": {
        "id": "view-in-github",
        "colab_type": "text"
      },
      "source": [
        "<a href=\"https://colab.research.google.com/github/leejineun/ai-class/blob/main/3_Keras_%EC%88%98%EC%97%85%EC%9A%A9.ipynb\" target=\"_parent\"><img src=\"https://colab.research.google.com/assets/colab-badge.svg\" alt=\"Open In Colab\"/></a>"
      ]
    },
    {
      "cell_type": "markdown",
      "metadata": {
        "id": "aoVxaLjxaKeK"
      },
      "source": [
        "# Keras\n",
        "- 파이썬으로 작성된 고수준 API\n",
        "- 사용자 친화성\n",
        "    - 일관성 있는 API\n",
        "    - 자주 쓰는 모듈에 대한 액션 최소화 및 친절한 에러 피드백\n",
        "- 모듈성\n",
        "    - 레이어, 손실 함수 등 독립적인 모듈로 구성\n",
        "- 쉬운 확장성\n",
        "    - 쉬운 모듈의 추가\n",
        "- 파이썬과의 호환"
      ]
    },
    {
      "cell_type": "markdown",
      "metadata": {
        "id": "Y7EQJdZCa4wG"
      },
      "source": [
        "### Import"
      ]
    },
    {
      "cell_type": "code",
      "metadata": {
        "id": "RI1jlSvzaO5R"
      },
      "source": [
        ""
      ],
      "execution_count": null,
      "outputs": []
    },
    {
      "cell_type": "code",
      "metadata": {
        "id": "tWIbkb7CaXyh"
      },
      "source": [
        ""
      ],
      "execution_count": null,
      "outputs": []
    },
    {
      "cell_type": "code",
      "metadata": {
        "id": "CHLU3oyQafhM"
      },
      "source": [
        ""
      ],
      "execution_count": null,
      "outputs": []
    },
    {
      "cell_type": "code",
      "metadata": {
        "id": "dyIgzZhOavMJ"
      },
      "source": [
        ""
      ],
      "execution_count": null,
      "outputs": []
    },
    {
      "cell_type": "code",
      "metadata": {
        "id": "y2f3ctyKazUH"
      },
      "source": [
        ""
      ],
      "execution_count": null,
      "outputs": []
    },
    {
      "cell_type": "code",
      "metadata": {
        "id": "FejuSHk9bHom"
      },
      "source": [
        ""
      ],
      "execution_count": null,
      "outputs": []
    },
    {
      "cell_type": "code",
      "metadata": {
        "id": "2qBvC9l4bN_H"
      },
      "source": [
        ""
      ],
      "execution_count": null,
      "outputs": []
    },
    {
      "cell_type": "code",
      "metadata": {
        "id": "brdxTkJqbS0Q"
      },
      "source": [
        ""
      ],
      "execution_count": null,
      "outputs": []
    },
    {
      "cell_type": "markdown",
      "metadata": {
        "id": "EnK9XJAFbd3b"
      },
      "source": [
        "### 레이어들"
      ]
    },
    {
      "cell_type": "markdown",
      "metadata": {
        "id": "aYfaw0tubhmH"
      },
      "source": [
        "### Dense\n",
        "- Fully-connected Layer\n",
        "- 노드 수, 활성화 함수 등을 지정\n",
        "- name을 통한 레이어간 구분 가능\n",
        "- kernel_initializer -> 레이어 내의 tf.Variable 초기값 지정\n"
      ]
    },
    {
      "cell_type": "code",
      "metadata": {
        "id": "PAzk89PobaVA"
      },
      "source": [
        ""
      ],
      "execution_count": null,
      "outputs": []
    },
    {
      "cell_type": "code",
      "metadata": {
        "id": "QYhdkfp5cErS"
      },
      "source": [
        ""
      ],
      "execution_count": null,
      "outputs": []
    },
    {
      "cell_type": "code",
      "metadata": {
        "id": "lD2LvnL-cFYR"
      },
      "source": [
        ""
      ],
      "execution_count": null,
      "outputs": []
    },
    {
      "cell_type": "code",
      "metadata": {
        "id": "doaJmtCpcNQe"
      },
      "source": [
        ""
      ],
      "execution_count": null,
      "outputs": []
    },
    {
      "cell_type": "markdown",
      "metadata": {
        "id": "0vY7g88QcUp5"
      },
      "source": [
        "### Activation\n"
      ]
    },
    {
      "cell_type": "code",
      "metadata": {
        "id": "gg1wzkyscO5T"
      },
      "source": [
        ""
      ],
      "execution_count": null,
      "outputs": []
    },
    {
      "cell_type": "markdown",
      "metadata": {
        "id": "grPsqZWCcqbD"
      },
      "source": [
        "### Flatten\n",
        "- 배치 크기를 제외하고 데이터를 1차원으로 펴는 작업\n",
        "- (128, 2, 2, 2) -> (128, 8)"
      ]
    },
    {
      "cell_type": "code",
      "metadata": {
        "id": "4bwgmocdckuc"
      },
      "source": [
        ""
      ],
      "execution_count": null,
      "outputs": []
    },
    {
      "cell_type": "markdown",
      "metadata": {
        "id": "JacBSCBbc4wC"
      },
      "source": [
        "### Input\n",
        "- 모델의 입력을 정의\n",
        "- shape, dtype을 포함\n",
        "- 하나의 모델은 여러 개의 입력을 가질 수 있음"
      ]
    },
    {
      "cell_type": "code",
      "metadata": {
        "id": "YAeE7G8-c0xB"
      },
      "source": [
        ""
      ],
      "execution_count": null,
      "outputs": []
    },
    {
      "cell_type": "code",
      "metadata": {
        "id": "lAgui-nZdMQY"
      },
      "source": [
        ""
      ],
      "execution_count": null,
      "outputs": []
    },
    {
      "cell_type": "code",
      "metadata": {
        "id": "YRoho6L8dRxi"
      },
      "source": [
        ""
      ],
      "execution_count": null,
      "outputs": []
    },
    {
      "cell_type": "markdown",
      "metadata": {
        "id": "fVm6NnuYrHfS"
      },
      "source": [
        "### Conv2D\n",
        "- 합성곱 연산"
      ]
    },
    {
      "cell_type": "code",
      "metadata": {
        "id": "kr0QRTQGq0gu"
      },
      "source": [
        ""
      ],
      "execution_count": null,
      "outputs": []
    },
    {
      "cell_type": "markdown",
      "metadata": {
        "id": "9LwJ9uV2dUwe"
      },
      "source": [
        "###  모델 구성 방법\n",
        "- ``Sequential()``\n",
        "- 서브클래싱\n",
        "- 함수형 api"
      ]
    },
    {
      "cell_type": "markdown",
      "metadata": {
        "id": "Kk2hDmN02w_f"
      },
      "source": [
        "![image.png](data:image/png;base64,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)\n",
        "\n",
        "<출처 : https://wikidocs.net/106897 >"
      ]
    },
    {
      "cell_type": "markdown",
      "metadata": {
        "id": "SPj7-Npldacx"
      },
      "source": [
        "### Sequential\n",
        "- 모델이 순차적으로 진행할 떄 사용\n",
        "- 간단한 방법\n",
        "  - Sequential 객체 생성 후, add를 통한 방법\n",
        "  - Sequential 인자에 한 번에 추가\n",
        "- 복잡한 모델 구현 불가"
      ]
    },
    {
      "cell_type": "code",
      "metadata": {
        "id": "aprVG0wWdSnI"
      },
      "source": [
        ""
      ],
      "execution_count": null,
      "outputs": []
    },
    {
      "cell_type": "code",
      "metadata": {
        "id": "epRt6U2Td0ok"
      },
      "source": [
        ""
      ],
      "execution_count": null,
      "outputs": []
    },
    {
      "cell_type": "markdown",
      "metadata": {
        "id": "SDK1_qb8eRdV"
      },
      "source": [
        "### 모델 구조 확인"
      ]
    },
    {
      "cell_type": "code",
      "metadata": {
        "id": "lyB0yk3aeN04"
      },
      "source": [
        ""
      ],
      "execution_count": null,
      "outputs": []
    },
    {
      "cell_type": "code",
      "metadata": {
        "id": "XKWwwPpueVl3"
      },
      "source": [
        ""
      ],
      "execution_count": null,
      "outputs": []
    },
    {
      "cell_type": "code",
      "metadata": {
        "id": "tCSO0LLdeikI"
      },
      "source": [
        ""
      ],
      "execution_count": null,
      "outputs": []
    },
    {
      "cell_type": "code",
      "metadata": {
        "id": "nnfuBWCLfLOP"
      },
      "source": [
        ""
      ],
      "execution_count": null,
      "outputs": []
    },
    {
      "cell_type": "code",
      "metadata": {
        "id": "irFLeKnJfPIQ"
      },
      "source": [
        ""
      ],
      "execution_count": null,
      "outputs": []
    },
    {
      "cell_type": "markdown",
      "metadata": {
        "id": "5hK_7WyAfgGu"
      },
      "source": [
        "### Functional\n",
        "- 권장\n",
        "- 모델을 복합하고, 유연하게 구성 가능\n",
        "- 다중 입출력 가능\n",
        "- 대부분의 딥러닝 모델은 함수형 api급에서 구현 가능"
      ]
    },
    {
      "cell_type": "code",
      "metadata": {
        "id": "ODx9FB6_fRYe"
      },
      "source": [
        ""
      ],
      "execution_count": null,
      "outputs": []
    },
    {
      "cell_type": "code",
      "metadata": {
        "id": "kMFudZZ_fxjc"
      },
      "source": [
        ""
      ],
      "execution_count": null,
      "outputs": []
    },
    {
      "cell_type": "code",
      "metadata": {
        "id": "iLhzFIm3gGBr"
      },
      "source": [
        ""
      ],
      "execution_count": null,
      "outputs": []
    },
    {
      "cell_type": "code",
      "metadata": {
        "id": "my16o7NigMu1"
      },
      "source": [
        ""
      ],
      "execution_count": null,
      "outputs": []
    },
    {
      "cell_type": "code",
      "metadata": {
        "id": "sFMRFsu0gSzY"
      },
      "source": [
        ""
      ],
      "execution_count": null,
      "outputs": []
    },
    {
      "cell_type": "code",
      "metadata": {
        "id": "Q0WFovHqgmOM"
      },
      "source": [
        ""
      ],
      "execution_count": null,
      "outputs": []
    },
    {
      "cell_type": "code",
      "metadata": {
        "id": "3sVzhbRF4Gmn"
      },
      "source": [
        ""
      ],
      "execution_count": null,
      "outputs": []
    },
    {
      "cell_type": "code",
      "metadata": {
        "id": "aP7XOC8a4q9_"
      },
      "source": [
        ""
      ],
      "execution_count": null,
      "outputs": []
    },
    {
      "cell_type": "code",
      "metadata": {
        "id": "S8-v5xRy5pB9"
      },
      "source": [
        ""
      ],
      "execution_count": null,
      "outputs": []
    },
    {
      "cell_type": "code",
      "metadata": {
        "id": "xflCbDjY5Woa"
      },
      "source": [
        ""
      ],
      "execution_count": null,
      "outputs": []
    },
    {
      "cell_type": "code",
      "metadata": {
        "id": "Rqtk2NNn5eG0"
      },
      "source": [
        ""
      ],
      "execution_count": null,
      "outputs": []
    },
    {
      "cell_type": "code",
      "metadata": {
        "id": "s5bOhMQo7VVT"
      },
      "source": [
        ""
      ],
      "execution_count": null,
      "outputs": []
    },
    {
      "cell_type": "code",
      "metadata": {
        "id": "Aa_iNe2B7bdp"
      },
      "source": [
        ""
      ],
      "execution_count": null,
      "outputs": []
    },
    {
      "cell_type": "code",
      "metadata": {
        "id": "Wa0zLgLu7t44"
      },
      "source": [
        ""
      ],
      "execution_count": null,
      "outputs": []
    },
    {
      "cell_type": "code",
      "metadata": {
        "id": "SuAqOc_c8ShH"
      },
      "source": [
        ""
      ],
      "execution_count": null,
      "outputs": []
    },
    {
      "cell_type": "code",
      "metadata": {
        "id": "w3g8O1Bp8chy"
      },
      "source": [
        ""
      ],
      "execution_count": null,
      "outputs": []
    },
    {
      "cell_type": "markdown",
      "metadata": {
        "id": "E3aeRSzt8d4m"
      },
      "source": [
        "### Subclassing\n",
        "- 높은 코드 난이도\n",
        "- 모델이 클래스를 상속받아 커스터마이징 가능\n",
        "- 주로 call() 메소드 안에서 원하는 계산\n",
        "- 연구자급에서 주로 사용"
      ]
    },
    {
      "cell_type": "code",
      "metadata": {
        "id": "H01QLfnM80jR"
      },
      "source": [
        ""
      ],
      "execution_count": null,
      "outputs": []
    },
    {
      "cell_type": "code",
      "metadata": {
        "id": "AsdKfZ5N88vB"
      },
      "source": [
        ""
      ],
      "execution_count": null,
      "outputs": []
    },
    {
      "cell_type": "markdown",
      "metadata": {
        "id": "IspXaKez06oJ"
      },
      "source": [
        "### 가중치 확인"
      ]
    },
    {
      "cell_type": "code",
      "metadata": {
        "id": "cg5iwQvJ9hwt"
      },
      "source": [
        ""
      ],
      "execution_count": null,
      "outputs": []
    },
    {
      "cell_type": "code",
      "metadata": {
        "id": "979r5h6XCC10"
      },
      "source": [
        ""
      ],
      "execution_count": null,
      "outputs": []
    },
    {
      "cell_type": "code",
      "metadata": {
        "id": "0P-Ciq9qCEou"
      },
      "source": [
        ""
      ],
      "execution_count": null,
      "outputs": []
    },
    {
      "cell_type": "code",
      "metadata": {
        "id": "b6IPJJChCVDn"
      },
      "source": [
        ""
      ],
      "execution_count": null,
      "outputs": []
    },
    {
      "cell_type": "code",
      "metadata": {
        "id": "DfEFr6UvCcgv"
      },
      "source": [
        ""
      ],
      "execution_count": null,
      "outputs": []
    },
    {
      "cell_type": "code",
      "metadata": {
        "id": "5CC_6rNsCoqR"
      },
      "source": [
        ""
      ],
      "execution_count": null,
      "outputs": []
    },
    {
      "cell_type": "code",
      "metadata": {
        "id": "wPTb5DmrCtbk"
      },
      "source": [
        ""
      ],
      "execution_count": null,
      "outputs": []
    },
    {
      "cell_type": "code",
      "metadata": {
        "id": "SHdBhgegCvVY"
      },
      "source": [
        ""
      ],
      "execution_count": null,
      "outputs": []
    },
    {
      "cell_type": "markdown",
      "metadata": {
        "id": "djOBmxI5C0o4"
      },
      "source": [
        "### Model Compile"
      ]
    },
    {
      "cell_type": "code",
      "metadata": {
        "id": "87DcTuvMC81D"
      },
      "source": [
        ""
      ],
      "execution_count": null,
      "outputs": []
    },
    {
      "cell_type": "markdown",
      "metadata": {
        "id": "cyKPs0YeDMo2"
      },
      "source": [
        "**loss**\n",
        "- sparse_categorical_crossentropy\n",
        "    - 클래스가 배타적, MNIST의 손글씨 예제처럼 0~9와 같은 방식으로 구분이 되어 있을 때 사용\n",
        "- categorical_cross_entropy\n",
        "    - 클래스가 원-핫 인코딩 방식으로 되어 있을 때 사용\n",
        "- binary_crossentropy\n",
        "    - 이진 분류를 수행할 때 사용"
      ]
    },
    {
      "cell_type": "code",
      "metadata": {
        "id": "U42jLDztDWD0"
      },
      "source": [
        ""
      ],
      "execution_count": null,
      "outputs": []
    },
    {
      "cell_type": "markdown",
      "metadata": {
        "id": "YnKQj9cDFjxg"
      },
      "source": [
        "### 모델 만들어 보기"
      ]
    },
    {
      "cell_type": "code",
      "metadata": {
        "id": "NQHYM-QwFuiT"
      },
      "source": [
        ""
      ],
      "execution_count": null,
      "outputs": []
    },
    {
      "cell_type": "code",
      "metadata": {
        "id": "vtfeggk1GiGE"
      },
      "source": [
        ""
      ],
      "execution_count": null,
      "outputs": []
    },
    {
      "cell_type": "code",
      "metadata": {
        "id": "PzAYlTQlHbnF"
      },
      "source": [
        ""
      ],
      "execution_count": null,
      "outputs": []
    },
    {
      "cell_type": "code",
      "metadata": {
        "id": "cviguAZ_H97U"
      },
      "source": [
        ""
      ],
      "execution_count": null,
      "outputs": []
    },
    {
      "cell_type": "code",
      "metadata": {
        "id": "kDNjYj9XIJM6"
      },
      "source": [
        ""
      ],
      "execution_count": null,
      "outputs": []
    },
    {
      "cell_type": "code",
      "metadata": {
        "id": "d6qiIfIPISYk"
      },
      "source": [
        ""
      ],
      "execution_count": null,
      "outputs": []
    },
    {
      "cell_type": "code",
      "metadata": {
        "id": "aYSSjcW-Jee9"
      },
      "source": [
        ""
      ],
      "execution_count": null,
      "outputs": []
    },
    {
      "cell_type": "code",
      "metadata": {
        "id": "0T4r4oc-JM6r"
      },
      "source": [
        ""
      ],
      "execution_count": null,
      "outputs": []
    },
    {
      "cell_type": "code",
      "metadata": {
        "id": "vFx6_cblKJNe"
      },
      "source": [
        ""
      ],
      "execution_count": null,
      "outputs": []
    },
    {
      "cell_type": "code",
      "metadata": {
        "id": "7YvMcTr7KU_1"
      },
      "source": [
        ""
      ],
      "execution_count": null,
      "outputs": []
    },
    {
      "cell_type": "code",
      "metadata": {
        "id": "v4ihUjxBHfom"
      },
      "source": [
        ""
      ],
      "execution_count": null,
      "outputs": []
    },
    {
      "cell_type": "code",
      "metadata": {
        "id": "hdRZcn1sIcOO"
      },
      "source": [
        ""
      ],
      "execution_count": null,
      "outputs": []
    },
    {
      "cell_type": "code",
      "metadata": {
        "id": "w8XDnvtsIuVw"
      },
      "source": [
        ""
      ],
      "execution_count": null,
      "outputs": []
    },
    {
      "cell_type": "code",
      "metadata": {
        "id": "BdiugOe_JXgC"
      },
      "source": [
        ""
      ],
      "execution_count": null,
      "outputs": []
    },
    {
      "cell_type": "code",
      "metadata": {
        "id": "Ud075zp-LvDM"
      },
      "source": [
        ""
      ],
      "execution_count": null,
      "outputs": []
    },
    {
      "cell_type": "code",
      "metadata": {
        "id": "_QwDqH8wLxcd"
      },
      "source": [
        ""
      ],
      "execution_count": null,
      "outputs": []
    },
    {
      "cell_type": "code",
      "metadata": {
        "id": "oK67vNTVLzwk"
      },
      "source": [
        ""
      ],
      "execution_count": null,
      "outputs": []
    },
    {
      "cell_type": "code",
      "metadata": {
        "id": "HeaGE6YPMDa2"
      },
      "source": [
        ""
      ],
      "execution_count": null,
      "outputs": []
    },
    {
      "cell_type": "code",
      "metadata": {
        "id": "SQQQ-N2EMNaY"
      },
      "source": [
        ""
      ],
      "execution_count": null,
      "outputs": []
    },
    {
      "cell_type": "code",
      "metadata": {
        "id": "QygRPG9rMT5B"
      },
      "source": [
        ""
      ],
      "execution_count": null,
      "outputs": []
    },
    {
      "cell_type": "code",
      "metadata": {
        "id": "6dyDTtngMeJX"
      },
      "source": [
        ""
      ],
      "execution_count": null,
      "outputs": []
    },
    {
      "cell_type": "code",
      "metadata": {
        "id": "1qBLcGxQM_Ju"
      },
      "source": [
        ""
      ],
      "execution_count": null,
      "outputs": []
    },
    {
      "cell_type": "code",
      "metadata": {
        "id": "uAIbDF6ONcy-"
      },
      "source": [
        ""
      ],
      "execution_count": null,
      "outputs": []
    },
    {
      "cell_type": "code",
      "metadata": {
        "id": "oj2DZO4dNzbb"
      },
      "source": [
        ""
      ],
      "execution_count": null,
      "outputs": []
    },
    {
      "cell_type": "code",
      "metadata": {
        "id": "Qjg74Dg1NgJ9"
      },
      "source": [
        ""
      ],
      "execution_count": null,
      "outputs": []
    },
    {
      "cell_type": "code",
      "metadata": {
        "id": "qgfdAaCLNxX_"
      },
      "source": [
        ""
      ],
      "execution_count": null,
      "outputs": []
    },
    {
      "cell_type": "code",
      "metadata": {
        "id": "DzORBN_mizkc"
      },
      "source": [
        ""
      ],
      "execution_count": null,
      "outputs": []
    },
    {
      "cell_type": "code",
      "metadata": {
        "id": "KlZKW3-1i0No"
      },
      "source": [
        ""
      ],
      "execution_count": null,
      "outputs": []
    },
    {
      "cell_type": "code",
      "metadata": {
        "id": "xWYriZsnjgCi"
      },
      "source": [
        ""
      ],
      "execution_count": null,
      "outputs": []
    },
    {
      "cell_type": "code",
      "metadata": {
        "id": "R2OXAAWUjoy4"
      },
      "source": [
        ""
      ],
      "execution_count": null,
      "outputs": []
    },
    {
      "cell_type": "code",
      "metadata": {
        "id": "9ZhCHXkAlXMc"
      },
      "source": [
        ""
      ],
      "execution_count": null,
      "outputs": []
    },
    {
      "cell_type": "code",
      "metadata": {
        "id": "iXpCx5X4llF_"
      },
      "source": [
        ""
      ],
      "execution_count": null,
      "outputs": []
    },
    {
      "cell_type": "code",
      "metadata": {
        "id": "FSMyvmLRqDKE"
      },
      "source": [
        ""
      ],
      "execution_count": null,
      "outputs": []
    },
    {
      "cell_type": "code",
      "metadata": {
        "id": "OaxzSFdtwkzH"
      },
      "source": [
        ""
      ],
      "execution_count": null,
      "outputs": []
    },
    {
      "cell_type": "code",
      "metadata": {
        "id": "Te_bl37qqgcT"
      },
      "source": [
        ""
      ],
      "execution_count": null,
      "outputs": []
    }
  ]
}