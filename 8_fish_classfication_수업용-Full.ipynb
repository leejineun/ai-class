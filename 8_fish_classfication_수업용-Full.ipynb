{
  "nbformat": 4,
  "nbformat_minor": 0,
  "metadata": {
    "colab": {
      "name": "8_fish-classfication-수업용.ipynb",
      "provenance": [],
      "collapsed_sections": [],
      "authorship_tag": "ABX9TyOvcc+MEa4l30AmNTh48BAE",
      "include_colab_link": true
    },
    "kernelspec": {
      "name": "python3",
      "display_name": "Python 3"
    },
    "language_info": {
      "name": "python"
    }
  },
  "cells": [
    {
      "cell_type": "markdown",
      "metadata": {
        "id": "view-in-github",
        "colab_type": "text"
      },
      "source": [
        "<a href=\"https://colab.research.google.com/github/leejineun/ai-class/blob/main/8_fish_classfication_%EC%88%98%EC%97%85%EC%9A%A9-Full.ipynb\" target=\"_parent\"><img src=\"https://colab.research.google.com/assets/colab-badge.svg\" alt=\"Open In Colab\"/></a>"
      ]
    },
    {
      "cell_type": "code",
      "metadata": {
        "id": "ayfrNsoXSNMz"
      },
      "source": [
        "from google.colab import files\n",
        "files.upload()"
      ],
      "execution_count": null,
      "outputs": []
    },
    {
      "cell_type": "code",
      "metadata": {
        "id": "W2qttm84SPUJ"
      },
      "source": [
        "!ls"
      ],
      "execution_count": null,
      "outputs": []
    },
    {
      "cell_type": "code",
      "metadata": {
        "id": "EUn2-fZOSliL"
      },
      "source": [
        "!mkdir -p ~/.kaggle"
      ],
      "execution_count": null,
      "outputs": []
    },
    {
      "cell_type": "code",
      "metadata": {
        "id": "wyjMkISZSmN0"
      },
      "source": [
        "!cp kaggle.json ~/.kaggle/kaggle.json"
      ],
      "execution_count": null,
      "outputs": []
    },
    {
      "cell_type": "code",
      "metadata": {
        "id": "_AYu4qDxSnA3"
      },
      "source": [
        "!kaggle datasets download -d crowww/a-large-scale-fish-dataset"
      ],
      "execution_count": null,
      "outputs": []
    },
    {
      "cell_type": "code",
      "metadata": {
        "id": "cV23vZc-Spxw"
      },
      "source": [
        "!ls"
      ],
      "execution_count": null,
      "outputs": []
    },
    {
      "cell_type": "code",
      "metadata": {
        "id": "hdJ8OR9VStva"
      },
      "source": [
        "!unzip a-large-scale-fish-dataset.zip"
      ],
      "execution_count": null,
      "outputs": []
    },
    {
      "cell_type": "code",
      "metadata": {
        "id": "GLv9YQ03S0xR"
      },
      "source": [
        "import cv2\n",
        "import matplotlib.pyplot as plt\n",
        "from os import listdir\n",
        "import numpy as np\n",
        "import pandas as pd\n",
        "import seaborn as sns\n",
        "import warnings\n",
        "warnings.filterwarnings(action='ignore')"
      ],
      "execution_count": null,
      "outputs": []
    },
    {
      "cell_type": "code",
      "metadata": {
        "id": "0toCTnjBS6qF"
      },
      "source": [
        "image_dir = './Fish_Dataset/Fish_Dataset'"
      ],
      "execution_count": null,
      "outputs": []
    },
    {
      "cell_type": "code",
      "metadata": {
        "id": "-t_PBvERTA2n"
      },
      "source": [
        "for file in listdir(image_dir) : \n",
        "    print(file)"
      ],
      "execution_count": null,
      "outputs": []
    },
    {
      "cell_type": "code",
      "metadata": {
        "id": "ZmvUdMW1TDWe"
      },
      "source": [
        "images, labels = [], []\n",
        "gt_images, gt_labels = [], []\n",
        "for file in listdir(image_dir) : \n",
        "    try : \n",
        "        for img in listdir('{}/{}/{}'.format(image_dir, file, file)) : \n",
        "            images.append('{}/{}/{}/{}'.format(image_dir, file, file, img))\n",
        "            labels.append(file)\n",
        "        for img in listdir('{}/{}/{} GT'.format(image_dir, file, file)) : \n",
        "            gt_images.append('{}/{}/{} GT/{}'.format(image_dir, file, file, img))\n",
        "            gt_labels.append(file)\n",
        "    except Exception : \n",
        "        continue"
      ],
      "execution_count": null,
      "outputs": []
    },
    {
      "cell_type": "code",
      "metadata": {
        "id": "QvmzwnMrTmly"
      },
      "source": [
        "df = pd.DataFrame({'path':images, 'label':labels})"
      ],
      "execution_count": null,
      "outputs": []
    },
    {
      "cell_type": "code",
      "metadata": {
        "id": "XZcMKNjbTnMc"
      },
      "source": [
        "print(df.shape)"
      ],
      "execution_count": null,
      "outputs": []
    },
    {
      "cell_type": "code",
      "metadata": {
        "id": "E9STan_iToo-"
      },
      "source": [
        "df.head()"
      ],
      "execution_count": null,
      "outputs": []
    },
    {
      "cell_type": "code",
      "metadata": {
        "id": "v51YcHhdTra6"
      },
      "source": [
        "df['label']=df['label'].astype('category')"
      ],
      "execution_count": null,
      "outputs": []
    },
    {
      "cell_type": "code",
      "metadata": {
        "id": "7ADOawFNTuWY"
      },
      "source": [
        "print(df['label'].value_counts(), '\\n{}\\n'.format('-'*50))"
      ],
      "execution_count": null,
      "outputs": []
    },
    {
      "cell_type": "code",
      "metadata": {
        "id": "uifGyAXOVwZO"
      },
      "source": [
        "### 시각화\n",
        "# 라벨별 이미지 수 확인\n",
        "plt.figure(figsize=(16, 16))\n",
        "sns.countplot(df['label'])\n",
        "plt.show()"
      ],
      "execution_count": null,
      "outputs": []
    },
    {
      "cell_type": "code",
      "metadata": {
        "id": "oCkbozsZT0Da"
      },
      "source": [
        "fig, ax = plt.subplots(nrows=3, ncols=3, figsize=(15,8), constrained_layout=True)\n",
        "ax=ax.flatten()\n",
        "\n",
        "j=0\n",
        "\n",
        "for i in df['label'].unique():\n",
        "    \n",
        "    ax[j].imshow(plt.imread(df[df['label']==i].iloc[np.random.randint(30),0]))\n",
        "    ax[j].set_title(i)\n",
        "    j=j+1"
      ],
      "execution_count": null,
      "outputs": []
    },
    {
      "cell_type": "code",
      "metadata": {
        "id": "yhEiBVB5TczO"
      },
      "source": [
        "from sklearn.preprocessing import LabelEncoder"
      ],
      "execution_count": null,
      "outputs": []
    },
    {
      "cell_type": "code",
      "metadata": {
        "id": "6NhA9tz8Th15"
      },
      "source": [
        "# 라벨 인코딩"
      ],
      "execution_count": null,
      "outputs": []
    },
    {
      "cell_type": "code",
      "metadata": {
        "id": "_5stTm_jTig2"
      },
      "source": [
        "encoder = LabelEncoder()\n",
        "encoder.fit(df['label'])\n",
        "df['label'] = encoder.transform(df['label'])"
      ],
      "execution_count": null,
      "outputs": []
    },
    {
      "cell_type": "code",
      "metadata": {
        "id": "pb9by7MWTjIG"
      },
      "source": [
        "df['label']"
      ],
      "execution_count": null,
      "outputs": []
    },
    {
      "cell_type": "code",
      "metadata": {
        "id": "Ald7cepeT3v6"
      },
      "source": [
        "encoder.classes_"
      ],
      "execution_count": null,
      "outputs": []
    },
    {
      "cell_type": "code",
      "metadata": {
        "id": "cVnKobMCSu4-"
      },
      "source": [
        "dummy = pd.get_dummies(df['label'])"
      ],
      "execution_count": null,
      "outputs": []
    },
    {
      "cell_type": "code",
      "metadata": {
        "id": "t8_tYKvyTEn5"
      },
      "source": [
        "df_merged = pd.merge(df, dummy, left_on=df.index, right_on=dummy.index)"
      ],
      "execution_count": null,
      "outputs": []
    },
    {
      "cell_type": "code",
      "metadata": {
        "id": "oYg6z2I7T5P8"
      },
      "source": [
        "# train_test_spilit\n",
        "from sklearn.model_selection import train_test_split"
      ],
      "execution_count": null,
      "outputs": []
    },
    {
      "cell_type": "code",
      "metadata": {
        "id": "-vNjnwLLT59k"
      },
      "source": [
        "X_train, X_test = train_test_split(df_merged, test_size=0.3, shuffle=True, random_state=42)"
      ],
      "execution_count": null,
      "outputs": []
    },
    {
      "cell_type": "code",
      "metadata": {
        "id": "ZtYCHWWIT605"
      },
      "source": [
        "X_train"
      ],
      "execution_count": null,
      "outputs": []
    },
    {
      "cell_type": "code",
      "metadata": {
        "id": "zGfrFw0zT7iM"
      },
      "source": [
        "# 이미지 어그멘테이션 및 path로부터 이미지 읽기\n",
        "from tensorflow.keras.preprocessing.image import ImageDataGenerator"
      ],
      "execution_count": null,
      "outputs": []
    },
    {
      "cell_type": "code",
      "metadata": {
        "id": "1H4vFiC6T924"
      },
      "source": [
        "from tensorflow.keras.applications.resnet import preprocess_input"
      ],
      "execution_count": null,
      "outputs": []
    },
    {
      "cell_type": "code",
      "metadata": {
        "id": "XjNmze4-T8po"
      },
      "source": [
        "train_image_gen = ImageDataGenerator(\n",
        "    rotation_range=30,\n",
        "    preprocessing_function=preprocess_input\n",
        ")"
      ],
      "execution_count": null,
      "outputs": []
    },
    {
      "cell_type": "code",
      "metadata": {
        "id": "SkQNmftXUQBR"
      },
      "source": [
        "test_image_gen = ImageDataGenerator(\n",
        "    preprocessing_function=preprocess_input\n",
        ")"
      ],
      "execution_count": null,
      "outputs": []
    },
    {
      "cell_type": "code",
      "metadata": {
        "id": "ozcuAL4kUVRn"
      },
      "source": [
        "X_train_img = train_image_gen.flow_from_dataframe(dataframe=X_train[:5000], x_col='path', y_col=[0, 1, 2, 3, 4, 5, 6, 7, 8], class_mode='raw', batch_size=32) # label : categorical\n",
        "\n",
        "X_val_img = test_image_gen.flow_from_dataframe(dataframe=X_train[5000:], x_col='path', y_col=[0, 1, 2, 3, 4, 5, 6, 7, 8], class_mode='raw', batch_size=32) # label : categorical\n",
        "\n",
        "X_test_img = test_image_gen.flow_from_dataframe(dataframe=X_test, x_col='path', y_col=[0, 1, 2, 3, 4, 5, 6, 7, 8], class_mode='raw', batch_size=32) # label : categorical"
      ],
      "execution_count": null,
      "outputs": []
    },
    {
      "cell_type": "code",
      "metadata": {
        "id": "diSlLTO2T-tB"
      },
      "source": [
        "# 모델 작성 및 학습\n",
        "from tensorflow.keras.models import Sequential, Model\n",
        "from tensorflow.keras.layers import Activation, Dropout, Flatten, Dense, Conv2D, MaxPooling2D\n",
        "from tensorflow.keras.callbacks import EarlyStopping\n",
        "from tensorflow.keras.applications import MobileNetV2"
      ],
      "execution_count": null,
      "outputs": []
    },
    {
      "cell_type": "code",
      "metadata": {
        "id": "6HU-kwBBV6FR"
      },
      "source": [
        "X_train_img[0][0].shape"
      ],
      "execution_count": null,
      "outputs": []
    },
    {
      "cell_type": "code",
      "metadata": {
        "id": "4T7UvaShU0AN"
      },
      "source": [
        "base_model = MobileNetV2(include_top=False, input_shape=X_train_img[0][0].shape[1:]) # 256 256 3\n",
        "\n",
        "base_model.trainable = False\n",
        "\n",
        "model = Sequential()\n",
        "\n",
        "model.add(base_model)\n",
        "model.add(Flatten())\n",
        "model.add(Dense(128, activation='relu'))\n",
        "model.add(Dropout(0.5))\n",
        "model.add(Dense(128, activation='relu'))\n",
        "model.add(Dense(9, activation='softmax'))"
      ],
      "execution_count": null,
      "outputs": []
    },
    {
      "cell_type": "code",
      "metadata": {
        "id": "lc98tZS8WV9Q"
      },
      "source": [
        "model.compile(loss='categorical_crossentropy', optimizer='adam', metrics=['accuracy'])\n"
      ],
      "execution_count": null,
      "outputs": []
    },
    {
      "cell_type": "code",
      "metadata": {
        "id": "LW_W7vm9WhN1"
      },
      "source": [
        "early_stopping = EarlyStopping(monitor='val_loss', patience=10)"
      ],
      "execution_count": null,
      "outputs": []
    },
    {
      "cell_type": "code",
      "metadata": {
        "id": "Dl4t4vhPWnAP"
      },
      "source": [
        "history = model.fit(X_train_img, epochs=30, validation_data=X_val_img, callbacks=[early_stopping])"
      ],
      "execution_count": null,
      "outputs": []
    },
    {
      "cell_type": "code",
      "metadata": {
        "id": "kaMhypaSWu8O"
      },
      "source": [
        ""
      ],
      "execution_count": null,
      "outputs": []
    }
  ]
}